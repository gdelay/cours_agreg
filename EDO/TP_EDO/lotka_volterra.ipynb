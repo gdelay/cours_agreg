{
 "cells": [
  {
   "cell_type": "markdown",
   "metadata": {},
   "source": [
    "# Exercice 5\n",
    "\n",
    "On considère le système de Lotka-Volterra sur l'intervalle $[0,30]$ :\n",
    "$$\n",
    "\\left\\{\n",
    "\\begin{array}{rl}\n",
    "x'(t)&=x(t)(2-y(t)/10)\\\\\n",
    "y'(t)&=y(t)(x(t)/10-4)\n",
    "\\end{array}\n",
    "\\right.\n",
    "$$\n",
    "avec $x(0)=100$ et $y(0)=70$.\n",
    "On pourra utiliser `odeint` ou `solve_ivp` pour calculer la solution de ce problème."
   ]
  },
  {
   "cell_type": "code",
   "execution_count": null,
   "metadata": {},
   "outputs": [],
   "source": [
    "import numpy as np\n",
    "import matplotlib.pyplot as plt\n",
    "import scipy.integrate as integrate\n",
    "\n",
    "#################  Exercice 5 : Portrait de phase et stabilite des points critiques\n",
    "## systeme de Lotka - Volterra\n",
    "\n",
    "T = 30\n",
    "N = 1000\n",
    "\n"
   ]
  },
  {
   "cell_type": "markdown",
   "metadata": {},
   "source": [
    "**Q1)** Tracer $x$ et $y$ en fonction du temps."
   ]
  },
  {
   "cell_type": "code",
   "execution_count": null,
   "metadata": {},
   "outputs": [],
   "source": []
  },
  {
   "cell_type": "markdown",
   "metadata": {},
   "source": [
    "**Q2)** Tracer la solution dans l’espace des phases.\n",
    "\n",
    "**Q3)** Ajouter les isoclines dans l’espace des phases.\n",
    "\n",
    "**Q4)** Ajouter d’autres orbites.\n",
    "\n",
    "**Q5)** Représenter $f$ pour compléter le portrait de phase."
   ]
  },
  {
   "cell_type": "code",
   "execution_count": null,
   "metadata": {},
   "outputs": [],
   "source": [
    "\n"
   ]
  },
  {
   "cell_type": "code",
   "execution_count": null,
   "metadata": {},
   "outputs": [],
   "source": []
  }
 ],
 "metadata": {
  "kernelspec": {
   "display_name": "Python 3 (ipykernel)",
   "language": "python",
   "name": "python3"
  },
  "language_info": {
   "codemirror_mode": {
    "name": "ipython",
    "version": 3
   },
   "file_extension": ".py",
   "mimetype": "text/x-python",
   "name": "python",
   "nbconvert_exporter": "python",
   "pygments_lexer": "ipython3",
   "version": "3.10.12"
  },
  "vscode": {
   "interpreter": {
    "hash": "5c7b89af1651d0b8571dde13640ecdccf7d5a6204171d6ab33e7c296e100e08a"
   }
  }
 },
 "nbformat": 4,
 "nbformat_minor": 2
}
