{
 "cells": [
  {
   "cell_type": "markdown",
   "metadata": {},
   "source": [
    "# Exercice 4 : schémas implicites\n",
    "\n",
    "On considère le problème suivant :\n",
    "$$\n",
    "\\left\\{\n",
    "\\begin{array}{rl}\n",
    "x'(t)&=x(t)+2y(t)\\\\\n",
    "y'(t)&=2x(t)+y(t)\n",
    "\\end{array}\n",
    "\\right.\n",
    "$$\n",
    "sur l'intervalle $[0,1]$ avec la condition initiale $x(0)=5$ et $y(0)=0$.\n",
    "On rappelle que les solutions de cette EDO est \n",
    "$$\n",
    "  x(t) = \\frac52 (e^{-t} + e^{3t}), \\quad y(t) = \\frac52 (-e^{-t} + e^{3t}).\n",
    "$$"
   ]
  },
  {
   "cell_type": "code",
   "execution_count": null,
   "metadata": {},
   "outputs": [],
   "source": []
  },
  {
   "cell_type": "markdown",
   "metadata": {},
   "source": [
    "**Q1)** Coder un programme `Newton(F,dF,X0,tol,maxiter)` qui renvoie la solution $X \\in \\mathbb{R}^2$ de l'équation $F(X) = 0$ calculée par la méthode de Newton (`dF` est la jacobienne de `F`)."
   ]
  },
  {
   "cell_type": "code",
   "execution_count": null,
   "metadata": {},
   "outputs": [],
   "source": []
  },
  {
   "cell_type": "markdown",
   "metadata": {},
   "source": [
    "**Q2)** En utilisant la question précédente, coder le schéma d'Euler implicite donné par $X_{n+1} = X_n + h f(t_{n+1} , X_{n+1})$."
   ]
  },
  {
   "cell_type": "code",
   "execution_count": null,
   "metadata": {},
   "outputs": [],
   "source": []
  },
  {
   "cell_type": "markdown",
   "metadata": {},
   "source": [
    "**Q3)** Coder le schéma de Crank-Nicolson donné par $X_{n+1} = X_n + \\frac{h}2 (f(t_{n+1} , X_{n+1}) + f(t_{n} , X_{n}))$.\n"
   ]
  },
  {
   "cell_type": "code",
   "execution_count": null,
   "metadata": {},
   "outputs": [],
   "source": []
  },
  {
   "cell_type": "markdown",
   "metadata": {},
   "source": [
    "**Q4)** Tracer les solutions approchées données par les deux schémas et comparer avec la solution exacte."
   ]
  },
  {
   "cell_type": "code",
   "execution_count": null,
   "metadata": {},
   "outputs": [],
   "source": []
  },
  {
   "cell_type": "markdown",
   "metadata": {},
   "source": [
    "**Q6)** Retrouver numériquement les taux de convergence des deux schémas."
   ]
  },
  {
   "cell_type": "code",
   "execution_count": null,
   "metadata": {},
   "outputs": [],
   "source": []
  }
 ],
 "metadata": {
  "kernelspec": {
   "display_name": "Python 3 (ipykernel)",
   "language": "python",
   "name": "python3"
  },
  "language_info": {
   "codemirror_mode": {
    "name": "ipython",
    "version": 3
   },
   "file_extension": ".py",
   "mimetype": "text/x-python",
   "name": "python",
   "nbconvert_exporter": "python",
   "pygments_lexer": "ipython3",
   "version": "3.10.12"
  },
  "vscode": {
   "interpreter": {
    "hash": "5c7b89af1651d0b8571dde13640ecdccf7d5a6204171d6ab33e7c296e100e08a"
   }
  }
 },
 "nbformat": 4,
 "nbformat_minor": 2
}
