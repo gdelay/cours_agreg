{
 "cells": [
  {
   "cell_type": "markdown",
   "metadata": {},
   "source": [
    "# Exercice 1 : Schéma d’Euler, calcul d’erreur\n",
    "\n",
    "On considère le problème suivant :\n",
    "$$\n",
    "\\left\\{\n",
    "\\begin{array}{rl}\n",
    "x'(t)&=x(t)+2y(t)\\\\\n",
    "y'(t)&=2x(t)+y(t)\n",
    "\\end{array}\n",
    "\\right.\n",
    "$$\n",
    "sur l'intervalle $[0,1]$ avec la condition initiale $x(0)=5$ et $y(0)=0$."
   ]
  },
  {
   "cell_type": "code",
   "execution_count": null,
   "metadata": {},
   "outputs": [],
   "source": [
    "import numpy as np\n",
    "import matplotlib.pyplot as plt\n",
    "import numpy.linalg as LA"
   ]
  },
  {
   "cell_type": "markdown",
   "metadata": {},
   "source": [
    "**Q1)** Faire un programme afin de déterminer la solution approchée de ce système à l'aide d'un schéma d'Euler explicite."
   ]
  },
  {
   "cell_type": "code",
   "execution_count": null,
   "metadata": {},
   "outputs": [],
   "source": [
    "def Euler_exp(X0,f,N,T):\n",
    "\n"
   ]
  },
  {
   "cell_type": "markdown",
   "metadata": {},
   "source": [
    "**Q2)** En prenant un pas de temps $\\Delta t = 0.01$, tracer la solution approchée de ce système en fonction du temps et comparer à la solution exacte\n",
    "$$\n",
    "  x(t) = \\frac52 (e^{-t} + e^{3t}), \\quad y(t) = \\frac52 (-e^{-t} + e^{3t}).\n",
    "$$"
   ]
  },
  {
   "cell_type": "code",
   "execution_count": null,
   "metadata": {},
   "outputs": [],
   "source": [
    "############  Parametres\n",
    "# conseil : mettre tous les parametres que vous pouvez etre amenes a modifier dans une section au debut du code\n",
    "T = 1.0 # temps final\n",
    "N = 100 # nbre de pas de temps\n",
    "\n",
    "# condition initiale\n",
    "X0 = np.array([5.,0.])\n",
    "\n",
    "# solution exacte :\n",
    "def sol(t):\n",
    "    a = (X0[0]-X0[1])/2.\n",
    "    b = (X0[0]+X0[1])/2.\n",
    "    x = a * np.exp(-t) + b * np.exp(3*t)\n",
    "    y = - a * np.exp(-t) + b * np.exp(3*t)\n",
    "    return np.array([x,y])\n"
   ]
  },
  {
   "cell_type": "markdown",
   "metadata": {},
   "source": [
    "**Q3)** Pour $0\\leq n \\leq N$, on note $t_n=n\\Delta t$ les points de discrétisation et $X_n$ la solution approchée au temps $t_n$. écrire un programme\n",
    "  calculant l'erreur $\\max_{0\\leq n \\leq N}\\|X(t_n)-X_n\\|_{\\infty}$. On pourra utiliser la commande `max` du module `numpy`."
   ]
  },
  {
   "cell_type": "code",
   "execution_count": null,
   "metadata": {},
   "outputs": [],
   "source": [
    "def erreur_Euler_exp(X0,f,N,T):\n"
   ]
  },
  {
   "cell_type": "markdown",
   "metadata": {},
   "source": [
    "**Q4)** Tracer l’erreur de la méthode d’Euler en fonction de $\\Delta t$ en échelle log-log (utiliser la fonction `loglog` du module `matplotlib.pyplot`)."
   ]
  },
  {
   "cell_type": "code",
   "execution_count": null,
   "metadata": {},
   "outputs": [],
   "source": [
    "## erreur en fonction du nombre de pas de temps (echelle logarithmique)\n",
    "nb_pas = [50,100,200,500,1000]\n",
    "\n"
   ]
  },
  {
   "cell_type": "markdown",
   "metadata": {},
   "source": [
    "**Q5)** Observer que la pente de l’erreur en échelle log-log est proche de 1. Comment l’interpréter ?"
   ]
  },
  {
   "cell_type": "code",
   "execution_count": null,
   "metadata": {},
   "outputs": [],
   "source": []
  },
  {
   "cell_type": "markdown",
   "metadata": {},
   "source": [
    "**Q6)** Reprendre les questions précédentes avec le schéma du point milieu\n",
    "$$\n",
    "  Y_{n+1}=Y_n+h f\\displaystyle\\left(t_n+\\frac h2,Y_n+\\frac h2 f(t_n,Y_n)\\right)\n",
    "$$"
   ]
  },
  {
   "cell_type": "code",
   "execution_count": null,
   "metadata": {},
   "outputs": [],
   "source": []
  },
  {
   "cell_type": "code",
   "execution_count": null,
   "metadata": {},
   "outputs": [],
   "source": []
  }
 ],
 "metadata": {
  "kernelspec": {
   "display_name": "Python 3 (ipykernel)",
   "language": "python",
   "name": "python3"
  },
  "language_info": {
   "codemirror_mode": {
    "name": "ipython",
    "version": 3
   },
   "file_extension": ".py",
   "mimetype": "text/x-python",
   "name": "python",
   "nbconvert_exporter": "python",
   "pygments_lexer": "ipython3",
   "version": "3.10.12"
  },
  "vscode": {
   "interpreter": {
    "hash": "5c7b89af1651d0b8571dde13640ecdccf7d5a6204171d6ab33e7c296e100e08a"
   }
  }
 },
 "nbformat": 4,
 "nbformat_minor": 2
}
