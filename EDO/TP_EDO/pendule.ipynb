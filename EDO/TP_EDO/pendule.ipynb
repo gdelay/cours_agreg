{
 "cells": [
  {
   "cell_type": "markdown",
   "metadata": {},
   "source": [
    "# Exercice 2: étude d’un pendule (schémas numériques)\n",
    "\n",
    "On considère un pendule de longueur $l$. L'évolution de $\\theta$ l'angle du pendule par rapport à la verticale est donnée par l'équation suivante :\n",
    "$$\n",
    "\\theta''(t)+\\frac{g}{l}\\sin(\\theta(t))=0.\n",
    "$$\n",
    "On définit $\\omega=\\theta'$, on a ainsi le système \n",
    "\\begin{equation*}\n",
    "\\left\\{\n",
    "\\begin{array}{l}\n",
    "\\theta'(t)=\\omega(t) \\\\\n",
    "\\omega'(t)=-\\displaystyle\\frac{g}{l}\\sin(\\theta(t)).\n",
    "\\end{array}\n",
    "\\right.\n",
    "\\end{equation*}\n",
    "On suppose que $\\theta(0)$ et  $\\omega(0)$ sont donnés et on prendra $l=5$ et $g=9.81$."
   ]
  },
  {
   "cell_type": "code",
   "execution_count": null,
   "metadata": {},
   "outputs": [],
   "source": [
    "# initialisations et parametres"
   ]
  },
  {
   "cell_type": "markdown",
   "metadata": {},
   "source": [
    "**Q1)** Déterminer la solution approchée de ce système à l'aide d'un schéma d'Euler explicite."
   ]
  },
  {
   "cell_type": "code",
   "execution_count": null,
   "metadata": {},
   "outputs": [],
   "source": []
  },
  {
   "cell_type": "markdown",
   "metadata": {},
   "source": [
    "**Q2)** Calculer une solution approchée en utilisant la fonction `solve_ivp` du module `scipy.integrate`  qui met en oeuvre la méthode de Runge-Kutta explicite d’ordre 4.\n",
    "\n",
    "> La syntaxe pour la commande `solve_ivp`  est `sol=integrate.solve_ivp(f,(t0,tf),X0)` où \n",
    "> - `f` a été définie de la façon suivante : `def f(t,X): ... ` (même si  `f`  ne dépend pas de `t`, il faut que l'argument apparaisse en seconde position en entrée);\n",
    "> - `(t0,tf)` est l’intervalle de temps où la solution est calculée\n",
    "> - `X0` correspond à la condition initiale ;\n",
    "> - `sol` est un objet contenant les informations sur la solution approchée: \n",
    ">   - `sol.t` contient le vecteur des temps où la solution est calculée\n",
    ">   - `sol.y` contient le tableau où la solution est calculée aux temps `sol.t`\n",
    "> \n",
    "> Remarque : `solve_ivp` choisit automatiquement le pas de temps, pour s’en affranchir on peut utiliser les mots-clefs suivants `sol=integrate.solve_ivp(f,(t0,tf),X0,max_step=dt, atol=1., rtol=1.)` où `dt` est le pas de temps souhaité."
   ]
  },
  {
   "cell_type": "code",
   "execution_count": null,
   "metadata": {},
   "outputs": [],
   "source": []
  },
  {
   "cell_type": "markdown",
   "metadata": {},
   "source": [
    "**Q3)** Implémenter la solution approchée par la méthode d’Euler implicite."
   ]
  },
  {
   "cell_type": "code",
   "execution_count": null,
   "metadata": {},
   "outputs": [],
   "source": []
  },
  {
   "cell_type": "markdown",
   "metadata": {},
   "source": [
    "**Q4)** Comparer les solutions données par les trois méthodes."
   ]
  },
  {
   "cell_type": "code",
   "execution_count": null,
   "metadata": {},
   "outputs": [],
   "source": [
    "\n",
    "\n"
   ]
  },
  {
   "cell_type": "markdown",
   "metadata": {},
   "source": [
    "**Q5)** On considère l’équation du pendule linéarisé dont la longueur varie:\n",
    "$$\n",
    "\\theta''(t)+\\omega^2 (1+\\varepsilon \\cos(t)) \\theta(t)=0,\n",
    "$$\n",
    "avec conditions initiales $\\theta(0) = \\frac{\\pi}{8}$ et $\\theta'(0)=0$ et où $\\omega$ et $\\varepsilon$ sont des constantes.\n",
    "\n",
    "Pour $(\\omega,\\varepsilon) = (\\frac{1}{2},0.1)$ et $(\\omega,\\varepsilon) = (1,0.2)$, comparer la méthode d’Euler explicite et Runge-Kutta explicite à l’ordre 4.\n"
   ]
  },
  {
   "cell_type": "code",
   "execution_count": null,
   "metadata": {},
   "outputs": [],
   "source": []
  }
 ],
 "metadata": {
  "kernelspec": {
   "display_name": "Python 3 (ipykernel)",
   "language": "python",
   "name": "python3"
  },
  "language_info": {
   "codemirror_mode": {
    "name": "ipython",
    "version": 3
   },
   "file_extension": ".py",
   "mimetype": "text/x-python",
   "name": "python",
   "nbconvert_exporter": "python",
   "pygments_lexer": "ipython3",
   "version": "3.10.12"
  },
  "vscode": {
   "interpreter": {
    "hash": "5c7b89af1651d0b8571dde13640ecdccf7d5a6204171d6ab33e7c296e100e08a"
   }
  }
 },
 "nbformat": 4,
 "nbformat_minor": 2
}
