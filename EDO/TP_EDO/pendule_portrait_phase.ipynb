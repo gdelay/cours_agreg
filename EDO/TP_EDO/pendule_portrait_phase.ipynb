{
 "cells": [
  {
   "cell_type": "markdown",
   "metadata": {},
   "source": [
    "# Exercice 3 : portrait de phase du pendule\n",
    "\n",
    "On considère un pendule de longueur $l$. L'évolution de $\\theta$ l'angle du pendule par rapport à la verticale est donnée par l'équation suivante :\n",
    "$$\n",
    "\\theta''(t)+\\frac{g}{l}\\sin(\\theta(t))=0.\n",
    "$$\n",
    "On définit $\\omega=\\theta'$, on a ainsi le système \n",
    "\\begin{equation*}\n",
    "\\left\\{\n",
    "\\begin{array}{l}\n",
    "\\theta'(t)=\\omega(t) \\\\\n",
    "\\omega'(t)=-\\displaystyle\\frac{g}{l}\\sin(\\theta(t)).\n",
    "\\end{array}\n",
    "\\right.\n",
    "\\end{equation*}\n",
    "On suppose que $\\theta(0)$ et  $\\omega(0)$ sont donnés. \n",
    "On veut tracer le portrait de phase de ce problème pour les paramètres\n",
    "$l=5$ et $g=9.81$."
   ]
  },
  {
   "cell_type": "code",
   "execution_count": null,
   "metadata": {},
   "outputs": [],
   "source": [
    "import numpy as np\n",
    "import matplotlib.pyplot as plt\n",
    "import scipy.integrate as integrate\n",
    "\n",
    "##### Parametres\n",
    "g = 9.81\n",
    "l = 5\n",
    "T = 24\n",
    "N = 1000\n",
    "\n",
    "## fonction second membre\n",
    "def f(X,t):\n",
    "    return np.array([X[1], -g/l*np.sin(X[0])])\n",
    "\n",
    "tps = np.linspace(0,T,N+1)"
   ]
  },
  {
   "cell_type": "markdown",
   "metadata": {},
   "source": [
    "**Q1)** Tracer la solution de ce problème dans le plan des phases pour la donnée initiale\n",
    "  $(\\theta(0),\\omega(0)) = (\\theta_0,0)$ avec $\\theta_0 \\in [0 , 2\\pi]$\n",
    "  (prendre de nombreuses valeurs de $\\theta_0$ et tracer toutes les solutions sur le même graphe).\n",
    "  On pourra résoudre le système en utilisant la commande `odeint` du module `scipy.integrate`."
   ]
  },
  {
   "cell_type": "markdown",
   "metadata": {},
   "source": [
    "> La syntaxe pour la commande  `odeint`  est `sol=integrate.odeint(f,X0,t)` où \n",
    "> - `f` a été définie de la façon suivante : `def f(X,t): ... ` (même si  `f`  ne dépend pas de `t`, il faut que l'argument apparaisse en seconde position en entrée);\n",
    "> - `X0` correspond à la condition initiale ;\n",
    "> - `t` est le vecteur contenant les temps en lesquels la solution est évaluée (le premier coefficient du vecteur est le temps initial) ;\n",
    "> - `sol` est le vecteur contenant les valeurs prises par la solution évaluée aux temps du vecteur `t`. "
   ]
  },
  {
   "cell_type": "code",
   "execution_count": null,
   "metadata": {},
   "outputs": [],
   "source": [
    "y1 = np.linspace(-3,10,20)\n",
    "y2 = np.linspace(-4,4,10)"
   ]
  },
  {
   "cell_type": "markdown",
   "metadata": {},
   "source": [
    "**Q2)** Ajouter les courbes issues des données initiales $(-\\pi , \\omega_0)$ avec $\\omega_0 > 0$ et $(3\\pi , \\omega_0)$ avec $\\omega_0 < 0$."
   ]
  },
  {
   "cell_type": "code",
   "execution_count": null,
   "metadata": {},
   "outputs": [],
   "source": []
  },
  {
   "cell_type": "markdown",
   "metadata": {},
   "source": [
    "**Q3)** Ajouter les points critiques sur cette figure."
   ]
  },
  {
   "cell_type": "code",
   "execution_count": null,
   "metadata": {},
   "outputs": [],
   "source": []
  },
  {
   "cell_type": "markdown",
   "metadata": {},
   "source": [
    "**Q4)**  Sur une autre figure, représenter le diagramme des phases près du point $(0,0)$. Ajouter les isoclines.\n",
    "Enfin, nous allons représenter la fonction second membre $f(\\theta,\\omega) = (\\omega, -\\frac{g}{l}\\sin(\\theta))$ sur cette figure.\n",
    "Pour cela, on pourra utiliser les commandes `np.meshgrid` et `plt.quiver`."
   ]
  },
  {
   "cell_type": "code",
   "execution_count": null,
   "metadata": {},
   "outputs": [],
   "source": []
  },
  {
   "cell_type": "code",
   "execution_count": null,
   "metadata": {},
   "outputs": [],
   "source": []
  }
 ],
 "metadata": {
  "kernelspec": {
   "display_name": "Python 3 (ipykernel)",
   "language": "python",
   "name": "python3"
  },
  "language_info": {
   "codemirror_mode": {
    "name": "ipython",
    "version": 3
   },
   "file_extension": ".py",
   "mimetype": "text/x-python",
   "name": "python",
   "nbconvert_exporter": "python",
   "pygments_lexer": "ipython3",
   "version": "3.10.12"
  },
  "vscode": {
   "interpreter": {
    "hash": "5c7b89af1651d0b8571dde13640ecdccf7d5a6204171d6ab33e7c296e100e08a"
   }
  }
 },
 "nbformat": 4,
 "nbformat_minor": 2
}
