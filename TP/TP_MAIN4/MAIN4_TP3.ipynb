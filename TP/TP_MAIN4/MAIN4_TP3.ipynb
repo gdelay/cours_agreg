{
 "cells": [
  {
   "cell_type": "markdown",
   "metadata": {},
   "source": [
    "# TP3 :  Discrétisation de l'équation de la chaleur"
   ]
  },
  {
   "cell_type": "code",
   "execution_count": null,
   "metadata": {},
   "outputs": [],
   "source": [
    "import numpy as np\n",
    "import math\n",
    "\n",
    "import scipy.sparse as sparse\n",
    "import scipy.sparse.linalg\n",
    "\n",
    "from scipy.integrate import quad\n",
    "\n",
    "import matplotlib.pyplot as plt\n",
    "from matplotlib import animation, rc\n",
    "from IPython.display import HTML"
   ]
  },
  {
   "cell_type": "markdown",
   "metadata": {},
   "source": [
    "### Equation de la chaleur :\n",
    "On se place dans le domaine temporel $]0,T[$ ($T>0$) et spatial $]0,1[$.\n",
    "On souhaite discrétiser l'équation de la chaleur avec des conditions aux limites de Dirichlet homogènes :\n",
    "$$\\dfrac{\\partial u}{\\partial t} - \\dfrac{\\partial^2 u}{\\partial x^2} = f \\text{ dans } ]0,T[ \\times ]0,1[,$$\n",
    "$$u(t,0) = u(t,1) = 0 \\text{ pour } t \\in ]0,T[,$$\n",
    "$$u(0,x) = u_0(x) \\text{ pour } x \\in ]0,1[,$$\n",
    "où $f$ est une fonction de $]0,T[ \\times ]0,1[$ donnée et $u_0$ est une fonction donnée de $]0,1[$."
   ]
  },
  {
   "cell_type": "markdown",
   "metadata": {},
   "source": [
    "### Discrétisation du domaine :\n",
    "On discrétise le domaine spatial $]X_{\\text{min}},X_{\\text{max}}[$ par $M>0$ sous-intervalles (dans la suite $X_{\\text{min}}=0$ et $X_{\\text{max}}=1$). \n",
    "Les points correspondant à cette discrétisation sont les $x_i = X_{\\text{min}} + i h_x$ avec $h_x = \\frac{X_{\\text{max}} - X_{\\text{min}}}{M}$ ($0 \\leq i \\leq M$). \n",
    "On discrétise le domaine temporel $]0,T[$ par $N>0$ sous-intervalles.\n",
    "Les points correspondants sont les $t_n = n h_t$ avec $h_t = \\frac{T}{N}$.\n",
    "On pourra calculer ces points avec les commandes suivantes :"
   ]
  },
  {
   "cell_type": "code",
   "execution_count": null,
   "metadata": {},
   "outputs": [],
   "source": [
    "M=2\n",
    "print(np.linspace(0,1,M+1))\n",
    "\n",
    "T=2\n",
    "N=2\n",
    "print(np.linspace(0,T,N+1))"
   ]
  },
  {
   "cell_type": "markdown",
   "metadata": {},
   "source": [
    "### Solution exacte :\n",
    "\n",
    "Pour étudier la convergence de nos schémas numériques, on propose la solution suivante :\n",
    "$$u(t,x) = \\cos(t)\\sin(\\pi x) . $$\n",
    "\n",
    "La fonction second membre correspondante est\n",
    "$$f(t,x) = (\\pi^2 \\cos(t)-\\sin(t)) \\sin(\\pi x) ,$$\n",
    "et la donnée initiale est\n",
    "$$ u_0(x) = \\sin(\\pi x) . $$"
   ]
  },
  {
   "cell_type": "code",
   "execution_count": null,
   "metadata": {},
   "outputs": [],
   "source": [
    "M_PI = math.pi\n",
    "\n",
    "# sol exacte\n",
    "def u_ex(t,x):\n",
    "    return math.cos(t)*math.sin(M_PI * x)\n",
    "\n",
    "# fonction second membre\n",
    "def f(t,x):\n",
    "    return (M_PI**2 * math.cos(t) - math.sin(t)) * math.sin(M_PI * x)\n",
    "\n",
    "# donnée initiale\n",
    "def u_0(x):\n",
    "    return math.sin(M_PI*x)\n"
   ]
  },
  {
   "cell_type": "markdown",
   "metadata": {},
   "source": [
    "### Schéma explicite centré :\n",
    "On se propose d'approcher les dérivées partielles par\n",
    "$$ \\dfrac{\\partial u}{\\partial t} (t_n,x_j) = \\dfrac{u(t_{n+1},x_j) - u(t_n,x_j)}{h_t} + O(h_t),$$\n",
    "$$ \\dfrac{\\partial^2 u}{\\partial x^2} (t_n,x_j) = \\dfrac{u(t_n,x_{j+1}) - 2 u(t_n,x_j) + u(t_n,x_{j-1})}{h_x^2} + O(h_x^2).$$\n",
    "\n",
    "Ceci nous donne le schéma aux différences finies suivant :\n",
    "$$ \\left\\{ \\begin{array}{l}\n",
    " u_{j}^{n+1} = u_j^n + \\dfrac{h_t}{h_x^2} (u_{j-1}^n - 2 u_j^n + u_{j+1}^n) + h_t f(t_n,x_j) \n",
    " \\text{  pour  } 1 \\leq j \\leq M-1 \\text{  et  } 0 \\leq n \\leq N-1 ,\n",
    " \\\\\n",
    " u_0^n = u_M^n = 0 \\text{  pour  } 0 \\leq n \\leq N ,\n",
    " \\\\\n",
    " u_j^0 = u_0(x_j) \\text{  pour  } 0 \\leq j \\leq M .\n",
    " \\end{array} \\right.$$"
   ]
  },
  {
   "cell_type": "code",
   "execution_count": null,
   "metadata": {},
   "outputs": [],
   "source": [
    "# schema explicite centre\n",
    "def schema_exp_cen(N,M):\n",
    "    # discretisation du domaine\n",
    "    X = np.linspace(0,1,M+1)\n",
    "    \n",
    "    # donnee initiale\n",
    "    u = np.zeros((N+1,M+1))\n",
    "    # ... ecrire l'initialisation de la solution ...\n",
    "    \n",
    "\n",
    "    \n",
    "    # boucle en temps\n",
    "    for n in range(N):\n",
    "        # ... ecrire la marche en temps ...\n",
    "    \n",
    "    # on renvoie la sol\n",
    "    return u"
   ]
  },
  {
   "cell_type": "markdown",
   "metadata": {},
   "source": [
    "### Représentation de la solution\n",
    "Tracer la solution au temps final obtenue numériquement et la comparer avec la solution exacte.\n",
    "Vérifier que ce schéma n'est stable que sous la condition de CFL\n",
    "$$ 2 h_t \\leq h_x^2 .$$\n",
    "On pourra faire varier le nombre de CFL $\\frac{2 h_t}{h_x^2}$ et vérifier que ce nombre doit être inférieur à 1 pour assurer la stabilité du schéma.\n"
   ]
  },
  {
   "cell_type": "code",
   "execution_count": null,
   "metadata": {},
   "outputs": [],
   "source": [
    "CFL_cible = 0.5\n",
    "M = 20\n",
    "hx = 1./M\n",
    "N = math.ceil(T/(CFL_cible*0.5*hx**2))\n",
    "ht = T/N\n",
    "CFL = 2*ht/hx**2\n",
    "print(\"CFL = \", CFL)\n",
    "\n",
    "# ... pour ces parametres de discretisation -> comparer la solution au temps final avec la solution exacte"
   ]
  },
  {
   "cell_type": "markdown",
   "metadata": {},
   "source": [
    "### Schéma implicite centré\n",
    "Prendre des $M$ modérés ($M=20$ par exemple) et observer que le coût augmente rapidement en augmentant $M$ (essayer $M=50$ ou $M=80$).\n",
    "En fait, cette condition de CFL est très restrictive.\n",
    "C'est pour cela qu'en pratique on préfère utiliser des schémas implicites pour l'équation de la chaleur.\n",
    "\n",
    "On se propose donc d'utiliser le schéma suivant:\n",
    "$$ \\left\\{ \\begin{array}{l}\n",
    " u_{j}^{n+1} = u_j^n + \\dfrac{h_t}{h_x^2} (u_{j-1}^{n+1} - 2 u_j^{n+1} + u_{j+1}^{n+1}) + h_t f(t_{n+1},x_j) \n",
    " \\text{  pour  } 1 \\leq j \\leq M-1 \\text{  et  } 0 \\leq n \\leq N-1 ,\n",
    " \\\\\n",
    " u_0^n = u_M^n = 0 \\text{  pour  } 0 \\leq n \\leq N ,\n",
    " \\\\\n",
    " u_j^0 = u_0(x_j) \\text{  pour  } 0 \\leq j \\leq M .\n",
    " \\end{array} \\right.$$"
   ]
  },
  {
   "cell_type": "markdown",
   "metadata": {},
   "source": [
    "On peut montrer que la solution de ce schéma implicite peut être calculée en résolvant à chaque pas de temps le système linéaire\n",
    "$$A U^{n+1} = U^n + h_t F^{n+1}$$\n",
    "avec\n",
    "$$ U^n = \\begin{pmatrix} u_1^n \\\\ u_2^n \\\\ \\vdots \\\\ u_{M-1}^n \\end{pmatrix} ,\n",
    "\\qquad\n",
    "F^{n+1} = \\begin{pmatrix} f(t_{n+1},x_{1}) \\\\ f(t_{n+1},x_2) \\\\ \\vdots \\\\ f(t_{n+1},x_{M-1}) \\end{pmatrix}\n",
    "\\qquad \\text{ et } \\qquad\n",
    "A = \\begin{pmatrix} \n",
    "1 + 2 \\alpha & -\\alpha &  & (0)\n",
    "\\\\\n",
    "-\\alpha & \\ddots & \\ddots& \n",
    "\\\\\n",
    " & \\ddots & \\ddots & -\\alpha\n",
    "\\\\\n",
    " (0)&  & -\\alpha & 1 + 2 \\alpha\n",
    "\\end{pmatrix} \\quad \\text{pour} \\quad \\alpha = \\frac{h_t}{h_x^2}$$\n",
    "\n",
    "La solution est donc calculée en résolvant ce système linéaire pour obtenir les valeurs aux points intérieurs et on complète avec les conditions de Dirichlet $u_0^{n+1} = u_M^{n+1} =0$."
   ]
  },
  {
   "cell_type": "markdown",
   "metadata": {},
   "source": [
    "Coder une fonction retournant la matrice A"
   ]
  },
  {
   "cell_type": "code",
   "execution_count": null,
   "metadata": {},
   "outputs": [],
   "source": [
    "# coder la matrice A (sous forme d'une matrice creuse)\n",
    "def mat_A(N,M):\n",
    "    ht = T/N\n",
    "    hx = 1./M\n",
    "    alpha = ht/hx**2\n",
    "    \n",
    "    row = list()\n",
    "    col = list()\n",
    "    data = list()\n",
    "    # premiere ligne\n",
    "    # A_0,0\n",
    "    row.append((0))\n",
    "    col.append((0))\n",
    "    data.append(...)\n",
    "    # A_0,1\n",
    "    row.append((0))\n",
    "    col.append((1))\n",
    "    data.append(...)\n",
    "\n",
    "    for i in range(...):\n",
    "        # ... ecrire cette boucle ...\n",
    "\n",
    "    # derniere ligne\n",
    "    row.append((M-2))\n",
    "    col.append((M-2))\n",
    "    data.append(...)\n",
    "    \n",
    "    row.append((M-2))\n",
    "    col.append((M-3))\n",
    "    data.append(...)\n",
    "        \n",
    "    # assemblage final\n",
    "    row = np.array(row)\n",
    "    col = np.array(col)\n",
    "    data = np.array(data)      \n",
    "    A = (sparse.coo_matrix((data, (row, col)), shape=(..., ...))).tocsr()\n",
    "    return A"
   ]
  },
  {
   "cell_type": "markdown",
   "metadata": {},
   "source": [
    "Coder une fonction retournant la solution générée par le schéma implicite"
   ]
  },
  {
   "cell_type": "code",
   "execution_count": null,
   "metadata": {},
   "outputs": [],
   "source": [
    "# fonction calculant la solution obtenue par le schema implicite\n",
    "def schema_imp_cen(N,M):\n",
    "    # discretisation du domaine\n",
    "    X = np.linspace(0,1,M+1)\n",
    "    \n",
    "    # donnee initiale\n",
    "    u = np.zeros((N+1,M+1))\n",
    "    # ... initialisation ...\n",
    "    \n",
    "    # pas de temps\n",
    "    ht = T/N\n",
    "    \n",
    "    # matrice A\n",
    "    A = mat_A(N,M)\n",
    "    \n",
    "    # boucle en temps\n",
    "    for n in range(N):\n",
    "        # a chaque pas de temps, on resout le systeme lineaire\n",
    "        # calcul du second membre\n",
    "        RHS = ...\n",
    "        # resolution du systeme\n",
    "        sol_lin = sparse.linalg.spsolve(A, RHS)\n",
    "        # mise a jour de la solution globale\n",
    "        # TODO\n",
    "    \n",
    "    # on renvoie la sol\n",
    "    return u\n"
   ]
  },
  {
   "cell_type": "markdown",
   "metadata": {},
   "source": [
    "Représenter graphiquement la solution au temps final obtenue à partir du schéma implicite et la comparer à la solution exacte. On observera que le schéma est stable (sans condition de CFL) et qu'on peut rafiner en espace sans que ce soit trop coûteux."
   ]
  },
  {
   "cell_type": "code",
   "execution_count": null,
   "metadata": {},
   "outputs": [],
   "source": [
    "N = 80\n",
    "M = 80\n",
    "hx = 1./M\n",
    "ht = T/N\n",
    "CFL = 2*ht/hx**2\n",
    "print(\"CFL = \", CFL)\n",
    "\n",
    "# solution numerique\n",
    "u = schema_imp_cen(N,M)\n",
    "Y = u[N,:]\n",
    "X = np.linspace(0,1,M+1)\n",
    "plt.plot(X,Y,marker='x',label=\"sol num\")\n",
    "\n",
    "# solution exacte\n",
    "Yex = np.zeros((M+1))\n",
    "for j in range(1,M):\n",
    "    Yex[j] = u_ex(T,X[j])\n",
    "plt.plot(X,Yex,marker='+',label=\"sol exacte\")\n",
    "\n",
    "plt.legend()\n",
    "plt.show()\n"
   ]
  },
  {
   "cell_type": "markdown",
   "metadata": {},
   "source": [
    "### Vidéo récapitulative\n",
    "La vidéo suivante permet de comparer le comportement au cours du temps des solutions des deux schémas.\n",
    "Cette fonction est longue à faire tourner (c'est normal).\n",
    "Observer le comportement si le nombre de CFL est plus grand que 1."
   ]
  },
  {
   "cell_type": "code",
   "execution_count": null,
   "metadata": {},
   "outputs": [],
   "source": [
    "CFL_cible = 0.8\n",
    "M = 10\n",
    "hx = 1./M\n",
    "N = math.ceil(T/(CFL_cible*0.5*hx**2))\n",
    "ht = T/N\n",
    "CFL = 2*ht/hx**2\n",
    "print(\"CFL = \", CFL)\n",
    "\n",
    "\n",
    "X = np.linspace(0,1,M+1)\n",
    "\n",
    "# First set up the figure, the axis, and the plot element we want to animate\n",
    "fig, ax = plt.subplots()\n",
    "\n",
    "# on garde les bornes pour afficher les solutions\n",
    "u_ec = schema_exp_cen(N,M)\n",
    "u_ic = schema_imp_cen(N,M)\n",
    "u_min = min(u_ec[0,:])\n",
    "u_max = max(u_ec[0,:])\n",
    "Y_min = -u_max - 0.1*(u_max-u_min)\n",
    "Y_max = u_max + 0.1*(u_max-u_min)    \n",
    "\n",
    "ax.set_xlim(( 0, 1))\n",
    "ax.set_ylim((Y_min, Y_max))\n",
    "\n",
    "line, = ax.plot([], [], lw=2)\n",
    "line2, = ax.plot([], [], lw=2, color='b')\n",
    "line3, = ax.plot([], [], lw=2, color='r')\n",
    "\n",
    "def init():\n",
    "    line.set_data([], [])\n",
    "    line2.set_data([], [])\n",
    "    line3.set_data([], [])\n",
    "    return (line,line2, line3)\n",
    "def animate(nt):\n",
    "    # schema explicite centre\n",
    "    line.set_data(X, u_ec[nt,:])\n",
    "    \n",
    "    # schema implicite centre\n",
    "    line2.set_data(X, u_ic[nt,:])\n",
    "    \n",
    "    # solution exacte\n",
    "    dt = T/N\n",
    "    sol_ex = np.zeros(M+1)\n",
    "    for i in range(0,M+1):\n",
    "        sol_ex[i] = u_ex(nt*dt,X[i])\n",
    "    line3.set_data(X, sol_ex)\n",
    "    return (line,line2, line3)\n",
    "\n",
    "# call the animator. \n",
    "# interval: Delay between frames in milliseconds. Defaults to 200.\n",
    "# blit=True means only re-draw the parts that have changed.\n",
    "# see https://matplotlib.org/api/_as_gen/matplotlib.animation.FuncAnimation.html\n",
    "\n",
    "anim = animation.FuncAnimation(fig, animate, init_func=init,\n",
    "                               frames=N+1, interval=20, blit=True)\n",
    "HTML(anim.to_html5_video())"
   ]
  },
  {
   "cell_type": "code",
   "execution_count": null,
   "metadata": {},
   "outputs": [],
   "source": []
  }
 ],
 "metadata": {
  "kernelspec": {
   "display_name": "Python 3",
   "language": "python",
   "name": "python3"
  },
  "language_info": {
   "codemirror_mode": {
    "name": "ipython",
    "version": 3
   },
   "file_extension": ".py",
   "mimetype": "text/x-python",
   "name": "python",
   "nbconvert_exporter": "python",
   "pygments_lexer": "ipython3",
   "version": "3.8.10"
  }
 },
 "nbformat": 4,
 "nbformat_minor": 2
}
