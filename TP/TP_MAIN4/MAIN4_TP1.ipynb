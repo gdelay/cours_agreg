{
 "cells": [
  {
   "cell_type": "markdown",
   "metadata": {},
   "source": [
    "# TP1 :  Discrétisation de l'équation de transport"
   ]
  },
  {
   "cell_type": "code",
   "execution_count": 1,
   "metadata": {},
   "outputs": [],
   "source": [
    "import numpy\n",
    "import os\n",
    "import math\n",
    "\n",
    "import scipy.sparse as sparse\n",
    "import scipy.sparse.linalg\n",
    "\n",
    "import matplotlib.pyplot as plt\n",
    "from matplotlib import animation, rc\n",
    "from IPython.display import HTML"
   ]
  },
  {
   "cell_type": "markdown",
   "metadata": {},
   "source": [
    "### Equation de transport :\n",
    "Soit $T > 0$.\n",
    "On considère le domaine de calcul (temps-espace) $]0,T[ \\times ]0,1[$.\n",
    "On souhaite discrétiser l'équation de transport avec des conditions aux limites périodiques:\n",
    "$$\\frac{\\partial u}{\\partial t} + a \\frac{\\partial u}{\\partial x} = 0 \\text{ dans } ]0,1[,$$\n",
    "$$u(t,0) = u(t,1) \\text{ pour } t \\in ]0,T[,$$\n",
    "$$u(0,x) = u_0(x) \\text{ pour } x \\in ]0,1[,$$\n",
    "où $a \\in \\mathbb{R}$ est la vitesse de transport et $u_0$ est une fonction représentant la valeur initiale de $u$."
   ]
  },
  {
   "cell_type": "markdown",
   "metadata": {},
   "source": [
    "### Discrétisation du domaine :\n",
    "On discrétise le domaine spatial $]X_{\\text{min}},X_{\\text{max}}[$ par $M>0$ sous-intervalles (dans la suite $X_{\\text{min}}=0$ et $X_{\\text{max}}=1$). \n",
    "Les points correspondant à cette discrétisation sont les $x_i = X_{\\text{min}} + i h$ avec $h = \\frac{X_{\\text{max}} - X_{\\text{min}}}{M}$ ($0 \\leq i \\leq M$)."
   ]
  },
  {
   "cell_type": "code",
   "execution_count": 2,
   "metadata": {},
   "outputs": [],
   "source": [
    "def discretisation_x(X_min,X_max,M):\n",
    "    X = numpy.zeros(M+1)\n",
    "    ## X = ...\n",
    "    return X"
   ]
  },
  {
   "cell_type": "markdown",
   "metadata": {},
   "source": [
    "On discrétise le domaine temporel $]0,T[$ par $N>0$ sous-intervalles. \n",
    "Le pas de temps sera obtenu par $\\Delta t = \\frac{T}{N}$."
   ]
  },
  {
   "cell_type": "code",
   "execution_count": 3,
   "metadata": {},
   "outputs": [],
   "source": [
    "Temps_final = 2"
   ]
  },
  {
   "cell_type": "markdown",
   "metadata": {},
   "source": [
    "### Condition initiale et solution exacte :\n",
    "\n",
    "On se donne pour condition initiale la fonction\n",
    "$$u_0(x) = \\sin(2 \\pi x)$$\n",
    "et on considère une vitesse de transport $a= \\frac12$.\n",
    "\n",
    "On peut alors calculer la solution exacte de ce problème (cf cours):\n",
    "$$u(t,x) = u_0(x-at - E(x-at))$$\n",
    "avec $E(x)$ la partie entière de $x$."
   ]
  },
  {
   "cell_type": "code",
   "execution_count": 4,
   "metadata": {},
   "outputs": [],
   "source": [
    "# fonction initiale\n",
    "def u_ini(x):\n",
    "    return numpy.sin(2*numpy.pi*x)\n",
    "\n",
    "# vitesse\n",
    "a = 0.5\n",
    "\n",
    "# sol exacte\n",
    "def u_ex(t,x):\n",
    "    pos = x-a*t\n",
    "    return u_ini(pos - math.floor(pos) )\n"
   ]
  },
  {
   "cell_type": "markdown",
   "metadata": {},
   "source": [
    "On cherche à construire une suite $(u_i^n)_{\\substack{0 \\leq n \\leq N \\\\ 0 \\leq i \\leq M-1}}$ approchant la solution exacte.\n",
    "\n",
    "Tous les schémas considérés seront initialisés avec la condition :\n",
    "$$u_i^0 = u_0(x_i) \\text{ pour } 0 \\leq i \\leq M-1.$$"
   ]
  },
  {
   "cell_type": "markdown",
   "metadata": {},
   "source": [
    "### Schéma explicite centré :\n",
    "\n",
    "Commençons par considérer le schéma explicite centré suivant:\n",
    "$$u_i^{n+1} = u_i^n - \\frac{a \\Delta t}{2h}(u_{i+1}^n - u_{i-1}^n) \\text{  pour  } 0 \\leq i \\leq M-1 \\text{ et } 0 \\leq n \\leq N-1$$\n",
    "avec la convention $u_M^n = u_0^n$ et $u_{-1}^n = u_{M-1}^n$.\n",
    "La fonction suivante doit renvoyer un tableau à deux entrées contenant les valeurs de la suite $(u_i^n)$."
   ]
  },
  {
   "cell_type": "code",
   "execution_count": 5,
   "metadata": {},
   "outputs": [],
   "source": [
    "def schema_exp_cen(N,M):\n",
    "    u = numpy.zeros((N+1, M))\n",
    "    # initialisation de la solution avec u_ini\n",
    "    ## ...\n",
    "\n",
    "    # calcul de la solution discrete\n",
    "    dt = Temps_final/N\n",
    "    ## ...\n",
    "    return u"
   ]
  },
  {
   "cell_type": "markdown",
   "metadata": {},
   "source": [
    "On peut maintenant tracer la solution approchée au temps $t=T$ et la comparer avec la solution exacte.\n",
    "La fonction suivante doit tracer sur un même graphe la solution générée par le schéma et la solution exacte (au temps final)."
   ]
  },
  {
   "cell_type": "code",
   "execution_count": 6,
   "metadata": {},
   "outputs": [],
   "source": [
    "def plot_ec(N,M):\n",
    "    X = discretisation_x(0,1,M)\n",
    "    # sol approchee\n",
    "    u_ec = numpy.zeros(M+1)\n",
    "    u_num = schema_exp_cen(N,M)\n",
    "    u_ec[0:M] = u_num[N,:]\n",
    "    u_ec[M] = u_ec[0]\n",
    "    plt.figure()\n",
    "    plt.plot(X, u_ec)\n",
    "\n",
    "    # sol exacte\n",
    "    u_sol = numpy.zeros(M+1)\n",
    "    for i in range(M+1):\n",
    "        u_sol[i] = u_ex(Temps_final,X[i])\n",
    "    plt.plot(X, u_sol)\n"
   ]
  },
  {
   "cell_type": "markdown",
   "metadata": {},
   "source": [
    "On peut maintenant appeler cette fonction pour différents $N$ et $M$. On doit observer une instabilité qui se développe et devient plus grande quand on raffine $N$ et $M$."
   ]
  },
  {
   "cell_type": "code",
   "execution_count": 7,
   "metadata": {},
   "outputs": [
    {
     "data": {
      "image/png": "[encoded data removed]",
      "text/plain": [
       "<Figure size 432x288 with 1 Axes>"
      ]
     },
     "metadata": {
      "needs_background": "light"
     },
     "output_type": "display_data"
    }
   ],
   "source": [
    "# essayer plusieurs valeurs   \n",
    "plot_ec(100,100)"
   ]
  },
  {
   "cell_type": "markdown",
   "metadata": {},
   "source": [
    "### Schéma explicite décentré :\n",
    "\n",
    "Pour remedier à cette instabilité, on se propose d'utiliser le schéma explicite décentré suivant:\n",
    "$$u_i^{n+1} = u_i^n - \\frac{a \\Delta t}{h}(u_i^n - u_{i-1}^n) \\text{ pour } 0 \\leq n \\leq N-1 \\text{ et } 0 \\leq i \\leq M-1 ,$$\n",
    "où on a utilisé la convention $u_{-1} = u_{M-1}$.\n",
    "\n",
    "On rappelle que ce schéma est stable sous la condition de CFL\n",
    "$$a \\Delta t \\leq h$$\n",
    "\n",
    "La fonction suivante calcule les valeurs générées par ce schéma."
   ]
  },
  {
   "cell_type": "code",
   "execution_count": 8,
   "metadata": {},
   "outputs": [],
   "source": [
    "def schema_exp_dec(N,M):\n",
    "    # initialisation\n",
    "    u = numpy.zeros((N+1,M))\n",
    "    ## ...\n",
    "    \n",
    "    # boucle en temps\n",
    "    ## ...\n",
    "            \n",
    "    return u\n"
   ]
  },
  {
   "cell_type": "markdown",
   "metadata": {},
   "source": [
    "La fonction suivante compare graphiquement la solution approchée avec la solution exacte au temps final."
   ]
  },
  {
   "cell_type": "code",
   "execution_count": 9,
   "metadata": {},
   "outputs": [],
   "source": [
    "def plot_ed(N,M):\n",
    "    X = discretisation_x(0,1,M)\n",
    "    u_num = schema_exp_dec(N,M)\n",
    "    u_ed = numpy.zeros(M+1)\n",
    "    u_ed[0:M] = u_num[N,:]\n",
    "    u_ed[M] = u_ed[0]\n",
    "    plt.figure()\n",
    "    plt.plot(X, u_ed)\n",
    "\n",
    "    # sol exacte\n",
    "    u_sol = numpy.zeros(M+1)\n",
    "    for i in range(M+1):\n",
    "        u_sol[i] = u_ex(Temps_final,X[i])\n",
    "    plt.plot(X, u_sol)\n",
    "\n"
   ]
  },
  {
   "cell_type": "markdown",
   "metadata": {},
   "source": [
    "Vérifier qu'une instabilité se développe si on ne respecte pas la condition de CFL\n",
    "$$a \\Delta t \\leq h$$\n",
    "et que tout se passe bien si on respecte cette condition.\n",
    "(tester plusieurs valeurs de $N$ et $M$)"
   ]
  },
  {
   "cell_type": "code",
   "execution_count": 10,
   "metadata": {},
   "outputs": [
    {
     "data": {
      "image/png": "[encoded data removed]",
      "text/plain": [
       "<Figure size 432x288 with 1 Axes>"
      ]
     },
     "metadata": {
      "needs_background": "light"
     },
     "output_type": "display_data"
    }
   ],
   "source": [
    "plot_ed(300,100)"
   ]
  },
  {
   "cell_type": "markdown",
   "metadata": {},
   "source": [
    "### Schéma implicite centré :\n",
    "\n",
    "Considérons maintenant le schéma implicite centré :\n",
    "$$u_i^{n+1} = u_i^n - \\frac{a \\Delta t}{2h}(u_{i+1}^{n+1} - u_{i-1}^{n+1}) \\text{ pour } 0 \\leq n \\leq N-1 \\text{ et } 0 \\leq i \\leq M-1 ,$$\n",
    "avec la convention $u_{-1}^n = u_{M-1}^n$ et $u_M^n = u_0^n$.\n",
    "\n",
    "On obtient la solution au temps $t^{n+1}$ à partir du temps $t^n$ en résolvant le système linéaire suivant:\n",
    "$$A U^{n+1} = U^n$$\n",
    "avec\n",
    "$$\n",
    "U^n = \\begin{pmatrix} u_0^n \\\\ u_1^n \\\\ \\vdots \\\\ u_{M-1}^n \\end{pmatrix}\n",
    "\\qquad \\text{ et } \\qquad\n",
    "A = \\begin{pmatrix} \n",
    "1 & \\frac{a \\Delta t}{2h} & 0 & & 0 & -\\frac{a \\Delta t}{2h} \n",
    "\\\\\n",
    "-\\frac{a \\Delta t}{2h} & \\ddots & \\ddots& 0 & & 0\n",
    "\\\\\n",
    "0 & \\ddots & \\ddots & \\ddots & 0\n",
    "\\\\\n",
    " & & \\ddots & \\ddots & \\ddots &\n",
    "\\\\\n",
    "0 & & & \\ddots & \\ddots & \\frac{a \\Delta t}{2h}\n",
    "\\\\\n",
    "\\frac{a \\Delta t}{2h}& 0 & & 0 & -\\frac{a \\Delta t}{2h} & 1\n",
    "\\end{pmatrix}$$"
   ]
  },
  {
   "cell_type": "markdown",
   "metadata": {},
   "source": [
    "La fonction suivante calcule la matrice A."
   ]
  },
  {
   "cell_type": "code",
   "execution_count": 11,
   "metadata": {},
   "outputs": [],
   "source": [
    "# assemblage d'une matrice creuse A (pour un schema implicite)\n",
    "def mat_A(N,M):\n",
    "    # ...\n",
    "    \n",
    "    row = list()\n",
    "    col = list()\n",
    "    data = list()\n",
    "    for i in range(0,M):\n",
    "    \n",
    "        # A_i,i = qque chose (exemple)\n",
    "        row.append((i)) # position ligne\n",
    "        col.append((i)) # position colonne\n",
    "        #data.append( ?? )  \n",
    "    \n",
    "        # A_i,i-1 = autre chose (exemple)\n",
    "        row.append((i))\n",
    "        col.append((numpy.mod(i-1,M)))  # modulo pour conditions periodiques\n",
    "        #data.append( ?? )\n",
    "    \n",
    "        # A_i,i+1 = encore autre chose\n",
    "        # row.append(( ?? ))\n",
    "        # col.append(( ?? ))\n",
    "        # data.append( ?? )\n",
    "\n",
    "    row = numpy.array(row)\n",
    "    col = numpy.array(col)\n",
    "    data = numpy.array(data)      \n",
    "    A = (sparse.coo_matrix((data, (row, col)), shape=(M, M))).tocsr()\n",
    "    return A"
   ]
  },
  {
   "cell_type": "markdown",
   "metadata": {},
   "source": [
    "La fonction suivante calcule les valeurs générées par le schéma."
   ]
  },
  {
   "cell_type": "code",
   "execution_count": 12,
   "metadata": {},
   "outputs": [],
   "source": [
    "# calcul de la solution du schema implicite\n",
    "def schema_imp_cen(N,M):\n",
    "    u_i = numpy.zeros((N+1,M))\n",
    "    ## ...\n",
    "    return u_i"
   ]
  },
  {
   "cell_type": "markdown",
   "metadata": {},
   "source": [
    "La fonction suivante affiche la solution approchée et la solution exacte au temps final."
   ]
  },
  {
   "cell_type": "code",
   "execution_count": 13,
   "metadata": {},
   "outputs": [],
   "source": [
    "# affichage du resultat\n",
    "def plot_ic(N,M):\n",
    "    # solution approchee\n",
    "    X = discretisation_x(0,1,M)\n",
    "    u_num = schema_imp_cen(N,M)\n",
    "    u_ic = numpy.zeros(M+1)\n",
    "    u_ic[0:M] = u_num[N,:]\n",
    "    u_ic[M] = u_ic[0]\n",
    "    plt.figure()\n",
    "    plt.plot(X, u_ic)\n",
    "    \n",
    "    # solution exacte\n",
    "    u_sol = numpy.zeros(M+1)\n",
    "    for i in range(M+1):\n",
    "        u_sol[i] = u_ex(Temps_final,X[i])\n",
    "    plt.plot(X, u_sol)"
   ]
  },
  {
   "cell_type": "markdown",
   "metadata": {},
   "source": [
    "On peut vérifier qu'aucune instabilité n'apparaît quelles que soient les valeurs de $N$ et $M$."
   ]
  },
  {
   "cell_type": "code",
   "execution_count": 14,
   "metadata": {},
   "outputs": [
    {
     "data": {
      "image/png": "[encoded data removed]",
      "text/plain": [
       "<Figure size 432x288 with 1 Axes>"
      ]
     },
     "metadata": {
      "needs_background": "light"
     },
     "output_type": "display_data"
    }
   ],
   "source": [
    "# tester différentes valeurs de N et M\n",
    "plot_ic(500,500)"
   ]
  },
  {
   "cell_type": "markdown",
   "metadata": {},
   "source": [
    "### Comparaison des différents schémas :\n",
    "\n",
    "On se propose maintenant de comparer l'évolution au cours du temps de la solution de ces trois schémas avec la solution exacte."
   ]
  },
  {
   "cell_type": "code",
   "execution_count": 15,
   "metadata": {},
   "outputs": [
    {
     "name": "stderr",
     "output_type": "stream",
     "text": [
      "<ipython-input-15-61ba2f3fdae5>:19: UserWarning: Attempting to set identical low and high ylims makes transformation singular; automatically expanding.\n",
      "  ax.set_ylim((Y_min, Y_max))\n"
     ]
    },
    {
     "data": {
      "text/html": [
       "<video width=\"432\" height=\"288\" controls autoplay loop>\n",
       "  <source type=\"video/mp4\" src=\"data:video/mp4;base64,AAAAHGZ0eXBNNFYgAAACAGlzb21pc28yYXZjMQAAAAhmcmVlAAAV2W1kYXQAAAKuBgX//6rcRem9\n",
       "5tlIt5Ys2CDZI+7veDI2NCAtIGNvcmUgMTU1IHIyOTE3IDBhODRkOTggLSBILjI2NC9NUEVHLTQg\n",
       "QVZDIGNvZGVjIC0gQ29weWxlZnQgMjAwMy0yMDE4IC0gaHR0cDovL3d3dy52aWRlb2xhbi5vcmcv\n",
       "eDI2NC5odG1sIC0gb3B0aW9uczogY2FiYWM9MSByZWY9MyBkZWJsb2NrPTE6MDowIGFuYWx5c2U9\n",
       "MHgzOjB4MTEzIG1lPWhleCBzdWJtZT03IHBzeT0xIHBzeV9yZD0xLjAwOjAuMDAgbWl4ZWRfcmVm\n",
       "PTEgbWVfcmFuZ2U9MTYgY2hyb21hX21lPTEgdHJlbGxpcz0xIDh4OGRjdD0xIGNxbT0wIGRlYWR6\n",
       "b25lPTIxLDExIGZhc3RfcHNraXA9MSBjaHJvbWFfcXBfb2Zmc2V0PS0yIHRocmVhZHM9NiBsb29r\n",
       "YWhlYWRfdGhyZWFkcz0xIHNsaWNlZF90aHJlYWRzPTAgbnI9MCBkZWNpbWF0ZT0xIGludGVybGFj\n",
       "ZWQ9MCBibHVyYXlfY29tcGF0PTAgY29uc3RyYWluZWRfaW50cmE9MCBiZnJhbWVzPTMgYl9weXJh\n",
       "bWlkPTIgYl9hZGFwdD0xIGJfYmlhcz0wIGRpcmVjdD0xIHdlaWdodGI9MSBvcGVuX2dvcD0wIHdl\n",
       "aWdodHA9MiBrZXlpbnQ9MjUwIGtleWludF9taW49MjUgc2NlbmVjdXQ9NDAgaW50cmFfcmVmcmVz\n",
       "aD0wIHJjX2xvb2thaGVhZD00MCByYz1jcmYgbWJ0cmVlPTEgY3JmPTIzLjAgcWNvbXA9MC42MCBx\n",
       "cG1pbj0wIHFwbWF4PTY5IHFwc3RlcD00IGlwX3JhdGlvPTEuNDAgYXE9MToxLjAwAIAAAAeIZYiE\n",
       "ADP//vbsvgU1/Z/QlxEsxdpKcD4qpICAdzTAAAADAAB4HShe6DhKq9DAABvIzcIk3f+ABLO++E67\n",
       "pBhendidMhig5WmV6h73lqDj7Mh1OsrP9f35GBGJHYJc7FgYZ2Io7EKjb+mLR0HpmjtLsCTkQtL8\n",
       "L8f3ZnbYu/cvGU2wlV1pvRS5VcckA55lmmh1JJEI/+XIFQ/7VBBqondsQ1fpReCxFjLkxuQObuei\n",
       "RReW6QSWVclnfS0MwzlFgKd9V3fU5w8bCX+crMUQWXW0eSG3wn4ttF/Q/RxNdG860Ujo7LeS0rIg\n",
       "ILSDgWBdptxCYHqFf41ajPlYwGAAXQv5dzlqqN3gAKSJUwZr2qVpyI9sgAe4VxaOoVt5Ua0sUh5i\n",
       "71b1mL7OYao0qAESgZLATKDfLkT5HcEGZjnaYULn7EV4+QTcXbCCW13ovWNO1bh4OC3DkVBTS24l\n",
       "eA3GeQqr5nXyUhkj80th2yK5vSYS+FDiNNqQVO4dSgVxi0cn+x2BJcGNiQNRDc+x7WO/NeWlpN6F\n",
       "6jmD6B9Vxeako6bSce8opTtLO12HKoeg8zJc//F8JoQYlkxQCcS/FUU8ZZdC6Y3J3ZQkZNoNwLfm\n",
       "wcB9L21ky23lTQUk9DKaO03E27R1vBZp/9eIXFb+iOvQCDzQb7IeQW7dL/yLCDq9LkEUeURNRUkD\n",
       "JptkY0uI48d2tYWR0EIZp4fBt9AjgAABErFzZxM5IHDmCUd5d/YJ9Athw1AecnE9g05cIhmlSA6B\n",
       "cwxoqzsovGjQlI6cNhqVVd9h7P0FUazS+2jCmNNuKBwbjIlKG6TZ5NWE0sMzJH+eWrSoe9gAAh/j\n",
       "fv2gAcfoXoCnGB35U03VMKB07IX3cu1B//OEB5sWkrY+le1zXBZf9GBSgNXPJkOX1PjqVP2T3Jg8\n",
       "SvwZWg/QecGGOoA2HIfx9HWkM9ADN/nr7TN+ndksZ7s7DiOY6I7j3WASC276JS/+xUqWAfKALqX6\n",
       "WisdI0IHVJEaTAeSLZKXrbIxuikEzAWbWToxQ/NYs12F8TPeWoFiOTAqmqlJn2uM1f8D720LKK0f\n",
       "JGC/l9kedYRmuaB303wyzy+rp4onRU1TeAdQs99a8PNwmIwbNj+2FqZbAFWPu4PTg8B6n08HS9Gi\n",
       "FQCb9gALUJ/T67zH8l5J8IJSpp/7Z2kOH8+18Qx5z+1A4g/Oo0JuyUSsuUqCazITPW65ITeFzsGy\n",
       "W4+QXp4AcemvsKbXd2vqDAmDE+zvQxESw4ueTFiUDI83vowRarUvKDMQF/77f/HK7Tm47i4l20zj\n",
       "wOZu6c7ut5qQPazHRBXjO0+DGmvkPxkS9OsPMz6rUa1z76W2IcCaBDl2Upz103+u+NM+hEkX7gbM\n",
       "QR+d8/OPe76hmiOalVR17vkiDBpGslU7lfNTO3QHFKPI+Y7H8A7zrur6BV7HNJNQJhLCuCj/QJkg\n",
       "xzVUHUUm1ygSD9dlZZ1QYjMfdNcOQ6fxUbqQgVzVYjFar0hmf8xKMngO3jme5TkQkX9z/8jAhnM1\n",
       "Z0Ng2crYMkWKI0Z11nOde2TsTcJ8gsvJjOaFGicct9w4ZAhXLvoxH2KokrsZuBvBGrB1n72z/uou\n",
       "JsxM+YCjKv/DVDwsE4d3hJaqO/gjMMBlJcKDNbc/qSqcjveTI/f5bR/Iw3KNoI2CliodUa7bpyI9\n",
       "VhJrMoq68xUOrBILIZRZFchKsR628G0Msh5VYFojbbWl7BqlL+Zqxufrsi655a5qNtlr/k7+O1uN\n",
       "xT29d+PpRuvTXyk5v/rMW48BXjAnFmaSVElG610u6S49rKkIghOTY5Ts2Z6qf/11HKevDIuUo760\n",
       "BEjVv+tczHwpFZ0jtEVJdPxZcHg92r3kVfNlYYm/nTgHjmf03yJ4hC3shAVfYo6ZqiS3gknkeSPa\n",
       "7KwZSL3zZTOJAMFLj25BxVIff2XbtmRlhyEYaa1LWWLVCoMCUBGQF2ApGIKTdofcqu1WIYCBYy7E\n",
       "phOe9Cogoo3EU0vbhjVqH6AE2MaNeB1k5wVEasW9MkSbYfbwyaa7r3OT9r/qhatHQDp2gaFV57nq\n",
       "WqxlVMqLezX9uD0b9NP3o7M5ZkMrcy8j2fTSbE0b+WI12qSy1Ay74U+ZMOIssEi25b3fnCBPP1KB\n",
       "z3V2/A8flqOEZhiIPDC6Ct9GnrQBFodMvHm3UShhUVLv8Gqgj6Bh/6hdwLwT69a1hu7W5ZKA+cMV\n",
       "WP6R3nREQKEGlev8ZoA9otznWSDPyYNK+/Vrw4B64tEEl2biEdyndLs3oAn/8oUaUOFS8El/C7Fp\n",
       "RQQtTg/cV2knxOKjfR7cCaTxY4/yPL5QBA4N2Lf6I1B1BB8RkIFYiapgUvj8f9BrlNOm6YOhJGr+\n",
       "aIbmEP0sad6qx4t5myDRj0Tle/k5R2d/75OxEMSVJUpaVaoJ/i6hg8EeD1Ae2XAepl4y+VStd006\n",
       "j3II7iImEu1ao9A9Tq8e1RBe59oTVjsO8CiERCRDzdoFvX8jgTiHBjj7kEzYizjESkzT6TemGYrI\n",
       "zyMTwozYiIp5HFVIoi0Sy78PpKYEMM6ItLdvE9pah5aeo4AzCGQINVikARkAAAFUQZokbEM//p4Q\n",
       "Z2x3OmTktItAJhlNW+YUlfn2u/lKT1Ln2xx/7UJZnUBSApMdRvhs8rOmzTYncd5s9BmuwvHf5aHy\n",
       "nBZgT+8Avnu2qVbhPkSDWE2jGPbXkkK4w5zFD9U5+l4+bbrMbIVQveQ9ZYdw8Sv0RlFEX+g6gXQD\n",
       "jFhDJ4jivFjctiG1F7GtUDIDT5G/bIlpIP/zHyRuZZb66/Hsvu/spDkjQs26KbRrcoK1hisA0kGr\n",
       "C6R93QNcX6sSJcTuOEWSUbAV/Wyknv6nGyQ0tYutPJgZoeV8SNrQ6GhXdvt8JnA5N/KET3ojSj/T\n",
       "ocdg+geN60JGHbAGVdBRLLRvFoizdvslW0ukMLs+jU4zroSXH+MJCPQhoAdl+/mk3AwgMUhsjO1l\n",
       "Qc7zuZJ0zqBKehJNFmq3L/t6XbHrG+pQxPgKyJRAn/8vCCRZeZ8ZY2m+m1mW9AAAAF1BnkJ4hH8E\n",
       "fdddaltupEr5C1h4vgvM1/lT3qkVWKF2wEb2odzzDJyDzzB/rSbzGbHvaPdh2qVQDu2oHEP2aMSy\n",
       "ZA67VlhSib2R6lLw6wVEClJi5zth5sz46CljOzkAAAAsAZ5hdEf/B+vMQeRaLy/7AAADAABqk21K\n",
       "ooGbL5Xihlz4rJyE0OYuC2d2VcAAAAAoAZ5jakf/B+28O8zyGfb1mSoAAAMAAFng1KoAVQd/Fn6K\n",
       "0+Wu2N+/gQAAAGpBmmhJqEFomUwIZ//+nhB/4sc8wwfKE0y0yEBZJ5zgAAJfjaLSPpZtdS6sx/TE\n",
       "FMsAAx0fyNMB9eAA6AE92SWey+WVGXVoP602TJpzwPhOwvwPPvSzzAQhYUX+sZFWT2jMP9VcLtQ+\n",
       "YEtBAAAALUGehkURLCP/Agr+rvyb68MQAAaKKplgD9OEXw6P5xdIyUSCC5wJdvY6v2onQQAAACQB\n",
       "nqV0R/8H53Clgi8xrpd1oAAADAOpVACukCS6Si0lYqKqy9MAAAAbAZ6nakf/B+SrSHQgWrMoO7cb\n",
       "u4t03E/2OwTsAAAAN0GarEmoQWyZTAhn//6eEAAAMjSt1DqJMnPoJmkiYZc2VABzgANmrcQEpCcx\n",
       "AluD67IjXobonnwAAAAgQZ7KRRUsI/8AAEmKgacBl05MPLihJh8UQ8i6+fVNsIEAAAAcAZ7pdEf/\n",
       "AABz4qDl5dPbuP3KwMffWryWqgULWAAAAA8BnutqR/8AAHQgA7sMJYAAAAAWQZrwSahBbJlMCGf/\n",
       "/p4QAAAUb1ZupQAAABFBnw5FFSwj/wAASYqAejqwcQAAAAwBny10R/8AAHPimdsAAAAMAZ8vakf/\n",
       "AAB0IAFTAAAAE0GbNEmoQWyZTAhn//6eEAAAB0wAAAARQZ9SRRUsI/8AAEmKgHo6sHEAAAAMAZ9x\n",
       "dEf/AABz4pnbAAAADAGfc2pH/wAAdCABUwAAABNBm3hJqEFsmUwIZ//+nhAAAAdNAAAAEUGflkUV\n",
       "LCP/AABJioB6OrBwAAAADAGftXRH/wAAc+KZ2wAAAAwBn7dqR/8AAHQgAVMAAAATQZu8SahBbJlM\n",
       "CGf//p4QAAAHTAAAABFBn9pFFSwj/wAASYqAejqwcQAAAAwBn/l0R/8AAHPimdsAAAAMAZ/7akf/\n",
       "AAB0IAFTAAAAE0Gb4EmoQWyZTAhn//6eEAAAB00AAAARQZ4eRRUsI/8AAEmKgHo6sHAAAAAMAZ49\n",
       "dEf/AABz4pnbAAAADAGeP2pH/wAAdCABUwAAABNBmiRJqEFsmUwIZ//+nhAAAAdMAAAAEUGeQkUV\n",
       "LCP/AABJioB6OrBxAAAADAGeYXRH/wAAc+KZ2wAAAAwBnmNqR/8AAHQgAVMAAAATQZpoSahBbJlM\n",
       "CGf//p4QAAAHTQAAABFBnoZFFSwj/wAASYqAejqwcQAAAAwBnqV0R/8AAHPimdsAAAAMAZ6nakf/\n",
       "AAB0IAFTAAAAE0GarEmoQWyZTAhn//6eEAAAB0wAAAARQZ7KRRUsI/8AAEmKgHo6sHEAAAAMAZ7p\n",
       "dEf/AABz4pnbAAAADAGe62pH/wAAdCABUwAAABNBmvBJqEFsmUwIZ//+nhAAAAdNAAAAEUGfDkUV\n",
       "LCP/AABJioB6OrBxAAAADAGfLXRH/wAAc+KZ2wAAAAwBny9qR/8AAHQgAVMAAAATQZs0SahBbJlM\n",
       "CGf//p4QAAAHTAAAABFBn1JFFSwj/wAASYqAejqwcQAAAAwBn3F0R/8AAHPimdsAAAAMAZ9zakf/\n",
       "AAB0IAFTAAAAE0GbeEmoQWyZTAhn//6eEAAAB00AAAARQZ+WRRUsI/8AAEmKgHo6sHAAAAAMAZ+1\n",
       "dEf/AABz4pnbAAAADAGft2pH/wAAdCABUwAAABNBm7xJqEFsmUwIZ//+nhAAAAdMAAAAEUGf2kUV\n",
       "LCP/AABJioB6OrBxAAAADAGf+XRH/wAAc+KZ2wAAAAwBn/tqR/8AAHQgAVMAAAATQZvgSahBbJlM\n",
       "CGf//p4QAAAHTQAAABFBnh5FFSwj/wAASYqAejqwcAAAAAwBnj10R/8AAHPimdsAAAAMAZ4/akf/\n",
       "AAB0IAFTAAAAE0GaJEmoQWyZTAhn//6eEAAAB0wAAAARQZ5CRRUsI/8AAEmKgHo6sHEAAAAMAZ5h\n",
       "dEf/AABz4pnbAAAADAGeY2pH/wAAdCABUwAAABNBmmhJqEFsmUwIZ//+nhAAAAdNAAAAEUGehkUV\n",
       "LCP/AABJioB6OrBxAAAADAGepXRH/wAAc+KZ2wAAAAwBnqdqR/8AAHQgAVMAAAATQZqsSahBbJlM\n",
       "CGf//p4QAAAHTAAAABFBnspFFSwj/wAASYqAejqwcQAAAAwBnul0R/8AAHPimdsAAAAMAZ7rakf/\n",
       "AAB0IAFTAAAAE0Ga8EmoQWyZTAhn//6eEAAAB00AAAARQZ8ORRUsI/8AAEmKgHo6sHEAAAAMAZ8t\n",
       "dEf/AABz4pnbAAAADAGfL2pH/wAAdCABUwAAABNBmzRJqEFsmUwIZ//+nhAAAAdMAAAAEUGfUkUV\n",
       "LCP/AABJioB6OrBxAAAADAGfcXRH/wAAc+KZ2wAAAAwBn3NqR/8AAHQgAVMAAAATQZt4SahBbJlM\n",
       "CGf//p4QAAAHTQAAABFBn5ZFFSwj/wAASYqAejqwcAAAAAwBn7V0R/8AAHPimdsAAAAMAZ+3akf/\n",
       "AAB0IAFTAAAAE0GbvEmoQWyZTAhn//6eEAAAB0wAAAARQZ/aRRUsI/8AAEmKgHo6sHEAAAAMAZ/5\n",
       "dEf/AABz4pnbAAAADAGf+2pH/wAAdCABUwAAABNBm+BJqEFsmUwIZ//+nhAAAAdNAAAAEUGeHkUV\n",
       "LCP/AABJioB6OrBwAAAADAGePXRH/wAAc+KZ2wAAAAwBnj9qR/8AAHQgAVMAAAATQZokSahBbJlM\n",
       "CGf//p4QAAAHTAAAABFBnkJFFSwj/wAASYqAejqwcQAAAAwBnmF0R/8AAHPimdsAAAAMAZ5jakf/\n",
       "AAB0IAFTAAAAE0GaaEmoQWyZTAhf//6MsAAAB1UAAAARQZ6GRRUsI/8AAEmKgHo6sHEAAAAMAZ6l\n",
       "dEf/AABz4pnbAAAADAGep2pH/wAAdCABUwAAABNBmqxJqEFsmUwIX//+jLAAAAdUAAAAEUGeykUV\n",
       "LCP/AABJioB6OrBxAAAADAGe6XRH/wAAc+KZ2wAAAAwBnutqR/8AAHQgAVMAAAATQZrwSahBbJlM\n",
       "CF///oywAAAHVQAAABFBnw5FFSwj/wAASYqAejqwcQAAAAwBny10R/8AAHPimdsAAAAMAZ8vakf/\n",
       "AAB0IAFTAAAAE0GbNEmoQWyZTAhX//44QAAAHHAAAAARQZ9SRRUsI/8AAEmKgHo6sHEAAAAMAZ9x\n",
       "dEf/AABz4pnbAAAADAGfc2pH/wAAdCABUwAAABJBm3hJqEFsmUwI//yEAAADAbMAAAARQZ+WRRUs\n",
       "I/8AAEmKgHo6sHAAAAAMAZ+1dEf/AABz4pnbAAAADAGft2pH/wAAdCABUwAACNptb292AAAAbG12\n",
       "aGQAAAAAAAAAAAAAAAAAAAPoAAAJdAABAAABAAAAAAAAAAAAAAAAAQAAAAAAAAAAAAAAAAAAAAEA\n",
       "AAAAAAAAAAAAAAAAAEAAAAAAAAAAAAAAAAAAAAAAAAAAAAAAAAAAAAAAAAACAAAIBHRyYWsAAABc\n",
       "dGtoZAAAAAMAAAAAAAAAAAAAAAEAAAAAAAAJdAAAAAAAAAAAAAAAAAAAAAAAAQAAAAAAAAAAAAAA\n",
       "AAAAAAEAAAAAAAAAAAAAAAAAAEAAAAABsAAAASAAAAAAACRlZHRzAAAAHGVsc3QAAAAAAAAAAQAA\n",
       "CXQAAAIAAAEAAAAAB3xtZGlhAAAAIG1kaGQAAAAAAAAAAAAAAAAAADIAAAB5AFXEAAAAAAAtaGRs\n",
       "cgAAAAAAAAAAdmlkZQAAAAAAAAAAAAAAAFZpZGVvSGFuZGxlcgAAAAcnbWluZgAAABR2bWhkAAAA\n",
       "AQAAAAAAAAAAAAAAJGRpbmYAAAAcZHJlZgAAAAAAAAABAAAADHVybCAAAAABAAAG53N0YmwAAACz\n",
       "c3RzZAAAAAAAAAABAAAAo2F2YzEAAAAAAAAAAQAAAAAAAAAAAAAAAAAAAAABsAEgAEgAAABIAAAA\n",
       "AAAAAAEAAAAAAAAAAAAAAAAAAAAAAAAAAAAAAAAAAAAAAAAAAAAY//8AAAAxYXZjQwFkAB7/4QAY\n",
       "Z2QAHqzZQbCWhAAAAwAEAAADAZA8WLZYAQAGaOvjyyLAAAAAHHV1aWRraEDyXyRPxbo5pRvPAyPz\n",
       "AAAAAAAAABhzdHRzAAAAAAAAAAEAAAB5AAABAAAAABRzdHNzAAAAAAAAAAEAAAABAAAD2GN0dHMA\n",
       "AAAAAAAAeQAAAAEAAAIAAAAAAQAABQAAAAABAAACAAAAAAEAAAAAAAAAAQAAAQAAAAABAAAFAAAA\n",
       "AAEAAAIAAAAAAQAAAAAAAAABAAABAAAAAAEAAAUAAAAAAQAAAgAAAAABAAAAAAAAAAEAAAEAAAAA\n",
       "AQAABQAAAAABAAACAAAAAAEAAAAAAAAAAQAAAQAAAAABAAAFAAAAAAEAAAIAAAAAAQAAAAAAAAAB\n",
       "AAABAAAAAAEAAAUAAAAAAQAAAgAAAAABAAAAAAAAAAEAAAEAAAAAAQAABQAAAAABAAACAAAAAAEA\n",
       "AAAAAAAAAQAAAQAAAAABAAAFAAAAAAEAAAIAAAAAAQAAAAAAAAABAAABAAAAAAEAAAUAAAAAAQAA\n",
       "AgAAAAABAAAAAAAAAAEAAAEAAAAAAQAABQAAAAABAAACAAAAAAEAAAAAAAAAAQAAAQAAAAABAAAF\n",
       "AAAAAAEAAAIAAAAAAQAAAAAAAAABAAABAAAAAAEAAAUAAAAAAQAAAgAAAAABAAAAAAAAAAEAAAEA\n",
       "AAAAAQAABQAAAAABAAACAAAAAAEAAAAAAAAAAQAAAQAAAAABAAAFAAAAAAEAAAIAAAAAAQAAAAAA\n",
       "AAABAAABAAAAAAEAAAUAAAAAAQAAAgAAAAABAAAAAAAAAAEAAAEAAAAAAQAABQAAAAABAAACAAAA\n",
       "AAEAAAAAAAAAAQAAAQAAAAABAAAFAAAAAAEAAAIAAAAAAQAAAAAAAAABAAABAAAAAAEAAAUAAAAA\n",
       "AQAAAgAAAAABAAAAAAAAAAEAAAEAAAAAAQAABQAAAAABAAACAAAAAAEAAAAAAAAAAQAAAQAAAAAB\n",
       "AAAFAAAAAAEAAAIAAAAAAQAAAAAAAAABAAABAAAAAAEAAAUAAAAAAQAAAgAAAAABAAAAAAAAAAEA\n",
       "AAEAAAAAAQAABQAAAAABAAACAAAAAAEAAAAAAAAAAQAAAQAAAAABAAAFAAAAAAEAAAIAAAAAAQAA\n",
       "AAAAAAABAAABAAAAAAEAAAUAAAAAAQAAAgAAAAABAAAAAAAAAAEAAAEAAAAAAQAABQAAAAABAAAC\n",
       "AAAAAAEAAAAAAAAAAQAAAQAAAAABAAAFAAAAAAEAAAIAAAAAAQAAAAAAAAABAAABAAAAAAEAAAUA\n",
       "AAAAAQAAAgAAAAABAAAAAAAAAAEAAAEAAAAAAQAABQAAAAABAAACAAAAAAEAAAAAAAAAAQAAAQAA\n",
       "AAABAAAFAAAAAAEAAAIAAAAAAQAAAAAAAAABAAABAAAAAAEAAAUAAAAAAQAAAgAAAAABAAAAAAAA\n",
       "AAEAAAEAAAAAHHN0c2MAAAAAAAAAAQAAAAEAAAB5AAAAAQAAAfhzdHN6AAAAAAAAAAAAAAB5AAAK\n",
       "PgAAAVgAAABhAAAAMAAAACwAAABuAAAAMQAAACgAAAAfAAAAOwAAACQAAAAgAAAAEwAAABoAAAAV\n",
       "AAAAEAAAABAAAAAXAAAAFQAAABAAAAAQAAAAFwAAABUAAAAQAAAAEAAAABcAAAAVAAAAEAAAABAA\n",
       "AAAXAAAAFQAAABAAAAAQAAAAFwAAABUAAAAQAAAAEAAAABcAAAAVAAAAEAAAABAAAAAXAAAAFQAA\n",
       "ABAAAAAQAAAAFwAAABUAAAAQAAAAEAAAABcAAAAVAAAAEAAAABAAAAAXAAAAFQAAABAAAAAQAAAA\n",
       "FwAAABUAAAAQAAAAEAAAABcAAAAVAAAAEAAAABAAAAAXAAAAFQAAABAAAAAQAAAAFwAAABUAAAAQ\n",
       "AAAAEAAAABcAAAAVAAAAEAAAABAAAAAXAAAAFQAAABAAAAAQAAAAFwAAABUAAAAQAAAAEAAAABcA\n",
       "AAAVAAAAEAAAABAAAAAXAAAAFQAAABAAAAAQAAAAFwAAABUAAAAQAAAAEAAAABcAAAAVAAAAEAAA\n",
       "ABAAAAAXAAAAFQAAABAAAAAQAAAAFwAAABUAAAAQAAAAEAAAABcAAAAVAAAAEAAAABAAAAAXAAAA\n",
       "FQAAABAAAAAQAAAAFgAAABUAAAAQAAAAEAAAABRzdGNvAAAAAAAAAAEAAAAsAAAAYnVkdGEAAABa\n",
       "bWV0YQAAAAAAAAAhaGRscgAAAAAAAAAAbWRpcmFwcGwAAAAAAAAAAAAAAAAtaWxzdAAAACWpdG9v\n",
       "AAAAHWRhdGEAAAABAAAAAExhdmY1OC4yOS4xMDA=\n",
       "\">\n",
       "  Your browser does not support the video tag.\n",
       "</video>"
      ],
      "text/plain": [
       "<IPython.core.display.HTML object>"
      ]
     },
     "execution_count": 15,
     "metadata": {},
     "output_type": "execute_result"
    },
    {
     "data": {
      "image/png": "[encoded data removed]",
      "text/plain": [
       "<Figure size 432x288 with 1 Axes>"
      ]
     },
     "metadata": {
      "needs_background": "light"
     },
     "output_type": "display_data"
    }
   ],
   "source": [
    "M = 150\n",
    "N = 120\n",
    "\n",
    "X = discretisation_x(0,1,M)\n",
    "\n",
    "# First set up the figure, the axis, and the plot element we want to animate\n",
    "fig, ax = plt.subplots()\n",
    "\n",
    "# on garde les bornes pour afficher les solutions\n",
    "u_ec = schema_exp_cen(N,M)\n",
    "u_ed = schema_exp_dec(N,M)\n",
    "u_ic = schema_imp_cen(N,M)\n",
    "u_min = min(u_ec[0,:])\n",
    "u_max = max(u_ec[0,:])\n",
    "Y_min = u_min - 0.1*(u_max-u_min)\n",
    "Y_max = u_max + 0.1*(u_max-u_min)    \n",
    "\n",
    "ax.set_xlim(( 0, 1))\n",
    "ax.set_ylim((Y_min, Y_max))\n",
    "\n",
    "line, = ax.plot([], [], lw=2)\n",
    "line2, = ax.plot([], [], lw=2, color='b')\n",
    "line3, = ax.plot([], [], lw=2, color='g')\n",
    "line4, = ax.plot([], [], lw=2, color='r')\n",
    "\n",
    "def init():\n",
    "    line.set_data([], [])\n",
    "    line2.set_data([], [])\n",
    "    line3.set_data([], [])\n",
    "    line4.set_data([], [])\n",
    "    return (line,line2, line3, line4)\n",
    "def animate(nt):\n",
    "    # schema explicite centre\n",
    "    u_1 = numpy.zeros(M+1)\n",
    "    u_1[0:M] = u_ec[nt,:]\n",
    "    u_1[M] = u_1[0]\n",
    "    line.set_data(X, u_1)\n",
    "    \n",
    "    # schema explicite decentre\n",
    "    u_2 = numpy.zeros(M+1)\n",
    "    u_2[0:M] = u_ed[nt,:]\n",
    "    u_2[M] = u_2[0]\n",
    "    line2.set_data(X, u_2)\n",
    "    \n",
    "    # schema implicite centre\n",
    "    u_3 = numpy.zeros(M+1)\n",
    "    u_3[0:M] = u_ic[nt,:]\n",
    "    u_3[M] = u_3[0]\n",
    "    line3.set_data(X, u_3)\n",
    "    \n",
    "    # solution exacte\n",
    "    dt = Temps_final/N\n",
    "    sol_ex = numpy.zeros(M+1)\n",
    "    for i in range(0,M+1):\n",
    "        sol_ex[i] = u_ex(nt*dt,X[i])\n",
    "    line4.set_data(X, sol_ex)\n",
    "    return (line,line2, line3, line4)\n",
    "\n",
    "# call the animator. \n",
    "# interval: Delay between frames in milliseconds. Defaults to 200.\n",
    "# blit=True means only re-draw the parts that have changed.\n",
    "# see https://matplotlib.org/api/_as_gen/matplotlib.animation.FuncAnimation.html\n",
    "\n",
    "anim = animation.FuncAnimation(fig, animate, init_func=init,\n",
    "                               frames=N+1, interval=20, blit=True)\n",
    "HTML(anim.to_html5_video())"
   ]
  },
  {
   "cell_type": "markdown",
   "metadata": {},
   "source": [
    "### Ordre de convergence :\n",
    "\n",
    "Estimons maintenant l'ordre de la méthode explicite décentrée avec une CFL de 0.8.\n",
    "Tracer en échelle log-log l'évolution de l'erreur $\\max_{0 \\leq n \\leq N} \\max_{0 \\leq i \\leq M} |u_i^n - u(t_n,x_i)|$ en fonction de M en choisissant $N$ tel que l'on ait $\\frac{a \\Delta t}{h} = 0.8$."
   ]
  },
  {
   "cell_type": "code",
   "execution_count": 16,
   "metadata": {},
   "outputs": [],
   "source": [
    "## TODO"
   ]
  },
  {
   "cell_type": "markdown",
   "metadata": {},
   "source": [
    "On doit retrouver le fait que la méthode est d'ordre 1"
   ]
  },
  {
   "cell_type": "code",
   "execution_count": null,
   "metadata": {},
   "outputs": [],
   "source": []
  }
 ],
 "metadata": {
  "kernelspec": {
   "display_name": "Python 3",
   "language": "python",
   "name": "python3"
  },
  "language_info": {
   "codemirror_mode": {
    "name": "ipython",
    "version": 3
   },
   "file_extension": ".py",
   "mimetype": "text/x-python",
   "name": "python",
   "nbconvert_exporter": "python",
   "pygments_lexer": "ipython3",
   "version": "3.8.10"
  }
 },
 "nbformat": 4,
 "nbformat_minor": 2
}
