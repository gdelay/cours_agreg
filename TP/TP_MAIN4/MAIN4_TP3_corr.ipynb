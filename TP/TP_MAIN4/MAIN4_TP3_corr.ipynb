{
 "cells": [
  {
   "cell_type": "markdown",
   "metadata": {},
   "source": [
    "# TP3 :  Discrétisation de l'équation de la chaleur"
   ]
  },
  {
   "cell_type": "code",
   "execution_count": 1,
   "metadata": {},
   "outputs": [],
   "source": [
    "import numpy as np\n",
    "import math\n",
    "\n",
    "import scipy.sparse as sparse\n",
    "import scipy.sparse.linalg\n",
    "\n",
    "from scipy.integrate import quad\n",
    "\n",
    "import matplotlib.pyplot as plt"
   ]
  },
  {
   "cell_type": "markdown",
   "metadata": {},
   "source": [
    "### Equation de la chaleur :\n",
    "On se place dans le domaine temporel $]0,T[$ ($T>0$) et spatial $]0,1[$.\n",
    "On souhaite discrétiser l'équation de la chaleur avec des conditions aux limites de Dirichlet homogènes :\n",
    "$$\\dfrac{\\partial u}{\\partial t} - \\dfrac{\\partial^2 u}{\\partial x^2} = f \\text{ dans } ]0,T[ \\times ]0,1[,$$\n",
    "$$u(t,0) = u(t,1) = 0 \\text{ pour } t \\in ]0,T[,$$\n",
    "$$u(0,x) = u_0(x) \\text{ pour } x \\in ]0,1[,$$\n",
    "où $f$ est une fonction de $]0,T[ \\times ]0,1[$ donnée et $u_0$ est une fonction donnée de $]0,1[$."
   ]
  },
  {
   "cell_type": "markdown",
   "metadata": {},
   "source": [
    "### Discrétisation du domaine :\n",
    "On discrétise le domaine spatial $]X_{\\text{min}},X_{\\text{max}}[$ par $M>0$ sous-intervalles (dans la suite $X_{\\text{min}}=0$ et $X_{\\text{max}}=1$). \n",
    "Les points correspondant à cette discrétisation sont les $x_i = X_{\\text{min}} + i h_x$ avec $h_x = \\frac{X_{\\text{max}} - X_{\\text{min}}}{M}$ ($0 \\leq i \\leq M$). \n",
    "On discrétise le domaine temporel $]0,T[$ par $N>0$ sous-intervalles.\n",
    "Les points correspondants sont les $t_n = n h_t$ avec $h_t = \\frac{T}{N}$.\n",
    "On pourra calculer ces points avec les commandes suivantes :"
   ]
  },
  {
   "cell_type": "code",
   "execution_count": 2,
   "metadata": {},
   "outputs": [
    {
     "name": "stdout",
     "output_type": "stream",
     "text": [
      "[0.  0.5 1. ]\n",
      "[0. 1. 2.]\n"
     ]
    }
   ],
   "source": [
    "M=2\n",
    "print(np.linspace(0,1,M+1))\n",
    "\n",
    "T=2\n",
    "N=2\n",
    "print(np.linspace(0,T,N+1))"
   ]
  },
  {
   "cell_type": "markdown",
   "metadata": {},
   "source": [
    "### Solution exacte :\n",
    "\n",
    "Pour étudier la convergence de nos schémas numériques, on propose la solution suivante :\n",
    "$$u(t,x) = \\cos(t)\\sin(\\pi x) . $$\n",
    "\n",
    "La fonction second membre correspondante est\n",
    "$$f(t,x) = (-\\pi^2 \\cos(t)-\\sin(t)) \\sin(\\pi x) ,$$\n",
    "et la donnée initiale est\n",
    "$$ u_0(x) = \\sin(\\pi x) . $$"
   ]
  },
  {
   "cell_type": "code",
   "execution_count": 4,
   "metadata": {},
   "outputs": [],
   "source": [
    "#M_PI = math.pi\n",
    "\n",
    "# sol exacte\n",
    "def u_ex(t,x):\n",
    "    return math.cos(t)*math.sin(M_PI * x)\n",
    "\n",
    "# fonction second membre\n",
    "def f(t,x):\n",
    "    return (- M_PI**2 * math.cos(t) - math.sin(t)) * math.sin(M_PI * x)\n",
    "\n",
    "# donnée initiale\n",
    "def u_0(x):\n",
    "    return math.sin(M_PI*x)\n"
   ]
  },
  {
   "cell_type": "markdown",
   "metadata": {},
   "source": [
    "### Schéma explicite centré :\n",
    "On se propose d'approcher les dérivées partielles par\n",
    "$$ \\dfrac{\\partial u}{\\partial t} (t_n,x_j) = \\dfrac{u(t_{n+1},x_j) - u(t_n,x_j)}{h_t} + O(h_t),$$\n",
    "$$ \\dfrac{\\partial^2 u}{\\partial x^2} (t_n,x_j) = \\dfrac{u(t_n,x_{j+1}) - 2 u(t_n,x_j) + u(t_n,x_{j-1})}{h_x^2} + O(h_x^2).$$\n",
    "\n",
    "Ceci nous donne le schéma aux différences finies suivant :\n",
    "$$ \\left\\{ \\begin{array}{l}\n",
    " u_{j}^{n+1} = u_j^n + \\dfrac{h_t}{h_x^2} (u_{j-1}^n - 2 u_j^n + u_{j+1}^n) + h_t f(t_n,x_j) \n",
    " \\text{  pour  } 1 \\leq j \\leq M-1 \\text{  et  } 0 \\leq n \\leq N-1 ,\n",
    " \\\\\n",
    " u_0^n = u_M^n = 0 \\text{  pour  } 0 \\leq n \\leq N ,\n",
    " \\\\\n",
    " u_j^0 = u_0(x_j) \\text{  pour  } 0 \\leq j \\leq M .\n",
    " \\end{array} \\right.$$"
   ]
  },
  {
   "cell_type": "code",
   "execution_count": 4,
   "metadata": {},
   "outputs": [
    {
     "name": "stdout",
     "output_type": "stream",
     "text": [
      "1.0\n",
      "0\n",
      "0\n",
      "0.0\n",
      "1.0\n",
      "0\n"
     ]
    }
   ],
   "source": [
    "# schema explicite centre\n",
    "def schema_exp_cen(N,M):\n",
    "    return u"
   ]
  },
  {
   "cell_type": "markdown",
   "metadata": {},
   "source": [
    "### Ecriture algébrique :\n",
    "On exprime $u_h \\in V_{h0}$ dans la base $(\\Phi_j)_{1 \\leq j \\leq M-1}$.\n",
    "On a donc \n",
    "$$u_h (x) = \\sum_{j=1}^{M-1} u_j \\Phi_j (x) \\quad \\forall x \\in [0,1]$$\n",
    "où $u_j = u(x_j)$. On peut alors trouver les $u_j$ en résolvant le système linéaire\n",
    "$$A U = F$$\n",
    "où \n",
    "$$U = \\begin{pmatrix} u_1 \\\\ u_2 \\\\ \\vdots \\\\ u_{M-1} \\end{pmatrix}, \\qquad\n",
    "F = \\begin{pmatrix} \\int_0^1 f(x) \\Phi_1(x) dx \\\\ \\int_0^1 f(x) \\Phi_2(x) dx \\\\ \\vdots \\\\ \\int_0^1 f(x) \\Phi_{M-1}(x) dx \\end{pmatrix}\n",
    "$$\n",
    "et\n",
    "$$\n",
    "A = \n",
    "\\begin{pmatrix} \n",
    "\\int_0^1 \\Phi_1'(x) \\Phi_1'(x) dx & \\cdots & \\int_0^1 \\Phi_1'(x) \\Phi_{M-1}'(x) dx \n",
    "\\\\ \n",
    "\\vdots &  & \\vdots\n",
    "\\\\\n",
    "\\int_0^1 \\Phi_{M-1}'(x) \\Phi_1'(x) dx & \\cdots & \\int_0^1 \\Phi_{M-1}'(x) \\Phi_{M-1}'(x) dx\n",
    "\\end{pmatrix}\n",
    "= \n",
    "\\dfrac1{h}\n",
    "\\begin{pmatrix}\n",
    "2 & -1 & & (0)\n",
    "\\\\\n",
    "-1 & \\ddots & \\ddots\n",
    "\\\\\n",
    "   & \\ddots & \\ddots & -1\n",
    "\\\\\n",
    "(0)&& -1 & 2\n",
    "\\end{pmatrix}$$"
   ]
  },
  {
   "cell_type": "code",
   "execution_count": 5,
   "metadata": {},
   "outputs": [],
   "source": [
    "# coder une fonction renvoyant la matrice A en fonction de M\n",
    "def mat_A(M):\n",
    "    h = 1/M\n",
    "    \n",
    "    row = list()\n",
    "    col = list()\n",
    "    data = list()\n",
    "    \n",
    "    # A_0,0\n",
    "    row.append((0))\n",
    "    col.append((0))\n",
    "    data.append(2)\n",
    "    \n",
    "    # A_0,1\n",
    "    row.append((0))\n",
    "    col.append((1))\n",
    "    data.append(-1)\n",
    "    \n",
    "    #loop\n",
    "    for i in range(1,M-2):\n",
    "    \n",
    "        # A_i,i = qque chose (exemple)\n",
    "        row.append((i))\n",
    "        col.append((i))\n",
    "        data.append( 2 )  \n",
    "    \n",
    "        # A_i,i-1 = autre chose (exemple)\n",
    "        row.append((i))\n",
    "        col.append((i-1))\n",
    "        data.append( -1 )\n",
    "    \n",
    "        # A_i,i+1 = encore autre chose\n",
    "        row.append((i))\n",
    "        col.append((i+1))\n",
    "        data.append( -1 )\n",
    "\n",
    "    # A_{M-2},{M-3}\n",
    "    row.append((M-2))\n",
    "    col.append((M-3))\n",
    "    data.append(-1)\n",
    "    \n",
    "    # A_{M-2},{M-2}\n",
    "    row.append((M-2))\n",
    "    col.append((M-2))\n",
    "    data.append(2)\n",
    "    \n",
    "    row = np.array(row)\n",
    "    col = np.array(col)\n",
    "    data = np.array(data)      \n",
    "    A = (sparse.coo_matrix((data, (row, col)), shape=(M-1, M-1))).tocsr()\n",
    "    return A/h\n",
    "\n"
   ]
  },
  {
   "cell_type": "markdown",
   "metadata": {},
   "source": [
    "On se propose de coder une première approximation de la fonction second membre obtenue par\n",
    "$$F_j = h f(x_{j+1}) \\qquad 0 \\leq j \\leq M-1$$\n",
    "\n",
    "On pourra dans un second temps (une fois que tout le TP est fini) coder la fonction exacte donnant\n",
    "$$F_j = \\int_0^1 f(x) \\Phi_{j+1}(x) dx \\qquad 0 \\leq j \\leq M-1$$"
   ]
  },
  {
   "cell_type": "code",
   "execution_count": 6,
   "metadata": {},
   "outputs": [
    {
     "name": "stdout",
     "output_type": "stream",
     "text": [
      "0.5\n"
     ]
    }
   ],
   "source": [
    "# premiere approximation :\n",
    "def RHS_DF(M,f):\n",
    "    F = np.zeros(M-1)\n",
    "    h = 1./M\n",
    "    for i in range(0,M-1):\n",
    "        xi = (i+1)*h\n",
    "        F[i] = h*f(xi)\n",
    "    return F\n",
    "\n",
    "def unite(x):\n",
    "    return x\n",
    "# pour la deuxieme fonction (a faire une fois que tout le TP est fini)\n",
    "# on pourra utiliser la methode d'integration suivante qui calcule l'integrale de unite(x) entre 0 et 1 :\n",
    "integrale = quad(unite,0,1)[0]\n",
    "print(integrale)\n",
    "\n",
    "# valeur exacte de F\n",
    "def RHS_F(M,f):\n",
    "    F = np.zeros(M-1)\n",
    "    h = 1./M\n",
    "    for i in range(0,M-1):\n",
    "        xi = (i+1)*h\n",
    "        def fPhi(x):\n",
    "            return f(x) * Phi(M,i+1,x)\n",
    "        F[i] = quad(fPhi, xi-h, xi+h)[0]\n",
    "    return F\n",
    "\n",
    "\n"
   ]
  },
  {
   "cell_type": "markdown",
   "metadata": {},
   "source": [
    "Coder une fonction retournant la solution éléments finis aux points $(x_j)_{0 \\leq j \\leq M}$. On pourra tester successivement les deux fonctions second membre."
   ]
  },
  {
   "cell_type": "code",
   "execution_count": 7,
   "metadata": {},
   "outputs": [],
   "source": [
    "# fonction calculant la solution elements finis\n",
    "def EF_DH(M,f):\n",
    "    A = mat_A(M)\n",
    "    F = RHS_DF(M,f)\n",
    "    U = np.zeros(M+1)\n",
    "    U[1:M] = sparse.linalg.spsolve(A, F)\n",
    "    return U\n"
   ]
  },
  {
   "cell_type": "markdown",
   "metadata": {},
   "source": [
    "Représenter $u_h$ graphiquement et la comparer avec la solution exacte."
   ]
  },
  {
   "cell_type": "code",
   "execution_count": 8,
   "metadata": {},
   "outputs": [
    {
     "data": {
      "image/png": "[encoded data removed]",
      "text/plain": [
       "<Figure size 432x288 with 1 Axes>"
      ]
     },
     "metadata": {
      "needs_background": "light"
     },
     "output_type": "display_data"
    }
   ],
   "source": [
    "# fonction representant u_h graphiquement\n",
    "# et la comparant avec la solution exacte\n",
    "def graph_sol(M,f,u_ex):\n",
    "    X = np.linspace(0,1,M+1)\n",
    "    sol_ex = np.zeros(M+1)\n",
    "    for i in range(0,M+1):\n",
    "        sol_ex[i] = u_ex(X[i])\n",
    "    \n",
    "    sol_EF = EF_DH(M,f)\n",
    "    \n",
    "    plt.plot(X,sol_ex)\n",
    "    plt.plot(X,sol_EF)\n",
    "    plt.show()\n",
    "\n",
    "graph_sol(10,f,u_ex)\n",
    "\n"
   ]
  },
  {
   "cell_type": "markdown",
   "metadata": {},
   "source": [
    "### Calcul des normes\n",
    "On définit la semi-norme $H^1$ de $v_h \\in V_{h0}$ comme\n",
    "$$\\| v_h' \\|_{L^2} = \\sqrt{\\int_0^1 (v_h'(x))^2 dx} = \\sqrt{\\sum_{j=1}^M h\\left(\\dfrac{v_h(x_{j}) - v_h(x_{j-1})}{h} \\right)^2}$$\n",
    "Coder une fonction calculant cette quantité à partir des coefficients $V$ de $v_h$."
   ]
  },
  {
   "cell_type": "code",
   "execution_count": 9,
   "metadata": {},
   "outputs": [],
   "source": [
    "def norme_H1(M,V):\n",
    "    h = 1./M\n",
    "    somme = 0\n",
    "    for j in range(1,M+1):\n",
    "        somme += (V[j]-V[j-1])**2 / h\n",
    "    return math.sqrt(somme)\n",
    "\n"
   ]
  },
  {
   "cell_type": "markdown",
   "metadata": {},
   "source": [
    "De la même façon, coder une fonction qui renvoie la norme $L^2$ donnée par\n",
    "$$\\| v_h \\|_{L^2} = \\sqrt{\\int_0^1 (v_h(x))^2 dx} = \\sqrt{\\dfrac{h}3 \\sum_{j=1}^M (v_h(x_{j-1}))^2 + v_h(x_{j-1}) v_h(x_{j}) + (v_h(x_{j}))^2 }$$"
   ]
  },
  {
   "cell_type": "code",
   "execution_count": 10,
   "metadata": {},
   "outputs": [],
   "source": [
    "def norme_L2(M,V):\n",
    "    h = 1./M\n",
    "    somme = 0\n",
    "    for j in range(1,M+1):\n",
    "        somme += (V[j-1]**2 + V[j-1]*V[j] + V[j]**2)\n",
    "    return math.sqrt(h * somme / 3)\n"
   ]
  },
  {
   "cell_type": "markdown",
   "metadata": {},
   "source": [
    "### Etude de convergence\n",
    "Pour différentes valeurs de $M$, calculer l'erreur commise par le schéma en semi-norme $H^1$, c'est-à-dire $\\| u_h' - I_h' \\|_{L^2}$ où $u_h$ est la solution obtenue par la méthode des éléments finis et $I_h \\in V_{h0}$ est l'interpolateur de Lagrange défini par $I_h(x_j) = u(x_j)$ ($1 \\leq j \\leq M-1$). Tracer l'erreur en fonction de $M$ en échelle log-log. Tracer également l'erreur en norme $L^2$. Commenter l'ordre de convergence obtenu."
   ]
  },
  {
   "cell_type": "code",
   "execution_count": 11,
   "metadata": {},
   "outputs": [
    {
     "data": {
      "text/plain": [
       "[]"
      ]
     },
     "execution_count": 11,
     "metadata": {},
     "output_type": "execute_result"
    },
    {
     "data": {
      "image/png": "[encoded data removed]",
      "text/plain": [
       "<Figure size 432x288 with 1 Axes>"
      ]
     },
     "metadata": {
      "needs_background": "light"
     },
     "output_type": "display_data"
    }
   ],
   "source": [
    "liste_M = [10,20,40,80,160,320,640]\n",
    "liste_err_H1 = []\n",
    "liste_err_L2 = []\n",
    "\n",
    "for M in liste_M:\n",
    "    X = np.linspace(0,1,M+1)\n",
    "    \n",
    "    # interpolation de Lagrange\n",
    "    I = np.zeros(M+1)\n",
    "    for j in range(1,M):\n",
    "        I[j] = u_ex(X[j])\n",
    "        \n",
    "    # solution elements finis\n",
    "    U = EF_DH(M,f)\n",
    "    \n",
    "    # calcul de l'erreur en semi-norme H^1\n",
    "    liste_err_H1.append(norme_H1(M,U-I))\n",
    "    \n",
    "    # calcul de l'erreur en norme L^2\n",
    "    liste_err_L2.append(norme_L2(M,U-I))\n",
    "\n",
    "\n",
    "plt.plot(liste_M, liste_err_H1)\n",
    "plt.plot(liste_M, liste_err_L2)\n",
    "plt.loglog()"
   ]
  },
  {
   "cell_type": "code",
   "execution_count": null,
   "metadata": {},
   "outputs": [],
   "source": []
  },
  {
   "cell_type": "code",
   "execution_count": null,
   "metadata": {},
   "outputs": [],
   "source": []
  }
 ],
 "metadata": {
  "kernelspec": {
   "display_name": "Python 3",
   "language": "python",
   "name": "python3"
  },
  "language_info": {
   "codemirror_mode": {
    "name": "ipython",
    "version": 3
   },
   "file_extension": ".py",
   "mimetype": "text/x-python",
   "name": "python",
   "nbconvert_exporter": "python",
   "pygments_lexer": "ipython3",
   "version": "3.8.10"
  }
 },
 "nbformat": 4,
 "nbformat_minor": 2
}
