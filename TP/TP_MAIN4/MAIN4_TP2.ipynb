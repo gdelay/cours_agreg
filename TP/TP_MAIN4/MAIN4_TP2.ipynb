{
 "cells": [
  {
   "cell_type": "markdown",
   "metadata": {},
   "source": [
    "# TP2 :  Discrétisation de l'équation de Poisson"
   ]
  },
  {
   "cell_type": "code",
   "execution_count": 1,
   "metadata": {},
   "outputs": [],
   "source": [
    "import numpy as np\n",
    "import math\n",
    "\n",
    "import scipy.sparse as sparse\n",
    "import scipy.sparse.linalg\n",
    "\n",
    "from scipy.integrate import quad\n",
    "\n",
    "import matplotlib.pyplot as plt"
   ]
  },
  {
   "cell_type": "markdown",
   "metadata": {},
   "source": [
    "### Equation de Poisson :\n",
    "On se place dans le domaine $]0,1[$.\n",
    "On souhaite discrétiser l'équation de Poisson avec des conditions aux limites de Dirichlet homogènes :\n",
    "$$-u''(x) = f(x) \\text{ dans } ]0,1[,$$\n",
    "$$u(0) = u(1) = 0,$$\n",
    "où $f$ est une fonction de $]0,1[$ donnée."
   ]
  },
  {
   "cell_type": "markdown",
   "metadata": {},
   "source": [
    "### Discrétisation du domaine :\n",
    "On discrétise le domaine spatial $]X_{\\text{min}},X_{\\text{max}}[$ par $M>0$ sous-intervalles (dans la suite $X_{\\text{min}}=0$ et $X_{\\text{max}}=1$). \n",
    "Les points correspondant à cette discrétisation sont les $x_i = X_{\\text{min}} + i h$ avec $h = \\frac{X_{\\text{max}} - X_{\\text{min}}}{M}$ ($0 \\leq i \\leq M$). On pourra les calculer avec la commande suivante :"
   ]
  },
  {
   "cell_type": "code",
   "execution_count": 2,
   "metadata": {},
   "outputs": [
    {
     "name": "stdout",
     "output_type": "stream",
     "text": [
      "[0.  0.5 1. ]\n"
     ]
    }
   ],
   "source": [
    "M=2\n",
    "print(np.linspace(0,1,M+1))"
   ]
  },
  {
   "cell_type": "markdown",
   "metadata": {},
   "source": [
    "### Fonction second membre et solution exacte :\n",
    "\n",
    "On étudie le problème précédent avec la fonction second membre\n",
    "$$f(x) = x^2$$\n",
    "Avec ce second membre, on peut prouver que la solution exacte est donnée par \n",
    "$$u(x) = \\frac{x}{12}(1-x^3)$$"
   ]
  },
  {
   "cell_type": "code",
   "execution_count": 3,
   "metadata": {},
   "outputs": [],
   "source": [
    "# fonction second membre\n",
    "def f(x):\n",
    "    return x**2\n",
    "\n",
    "\n",
    "# sol exacte\n",
    "def u_ex(x):\n",
    "    return x*(1-x**3)/12\n"
   ]
  },
  {
   "cell_type": "markdown",
   "metadata": {},
   "source": [
    "### Formulation variationnelle :\n",
    "Le problème étudié peut s'écrire sous forme faible comme\n",
    "$$ \\text{Trouver } u \\in H_0^1(0,1) \\text{ tel que } \\forall v \\in H_0^1(0,1) , \\; \\int_0^1 u'(x) v'(x) dx = \\int_0^1 f(x) v(x) dx $$"
   ]
  },
  {
   "cell_type": "markdown",
   "metadata": {},
   "source": [
    "### Méthode des éléments finis :\n",
    "On se propose de discrétiser ce problème avec la méthode des éléments finis.\n",
    "On va donc approcher la fonction $u(x)$ par une fonction discrétisée $u_h(x)$ dans l'espace\n",
    "$$V_{h0} = \\{ v_h \\in C^0([0,1]) \\;|\\; v_h \\vert_{[x_{n-1} , x_n]} \\in \\mathbb{P}^1([x_{n-1} , x_n]) \\; \\forall n \\in <1,M> \\; | \\; v_h(0) = v_h(1) = 0 \\} ,$$\n",
    "des fonctions continues nulles sur le bord et affines dans chaque sous-intervalle $[x_{n-1} , x_n]$.\n",
    "\n",
    "Cette fonction $u_h$ est obtenue en remplaçant dans la formulation variationnelle l'espace continu $H_0^1(0,1)$ par l'espace discrétisé $V_{h0}$.\n",
    "On résout donc le problème suivant:\n",
    "$$\\text{Trouver } u_h \\in V_{h0} \\text{ tel que } \\forall v_h \\in V_{h0}, \\int_0^1 u_h'(x) v_h'(x) dx = \\int_0^1 f(x) v_h(x) dx$$"
   ]
  },
  {
   "cell_type": "markdown",
   "metadata": {},
   "source": [
    "### Fonctions de base :\n",
    "\n",
    "L'espace $V_{h0}$ est un espace vectoriel dont la base canonique est $(\\Phi_j)_{1 \\leq j \\leq M-1}$ où les fonctions $\\Phi_j$ sont définies par\n",
    "$$\\Phi_j(x) = \\left\\{ \\begin{array}{l} \\dfrac{x - x_{j-1}}{h} \\text{ si $x_{j-1} \\leq x \\leq x_j$,}\n",
    "\\\\ \\dfrac{x_{j+1}-x}{h} \\text{ si $x_j \\leq x \\leq x_{j+1}$,} \\\\ 0 \\text{ sinon.}\\end{array}\\right.$$\n",
    "où $h = \\frac1{M}$ est le pas de discrétisation."
   ]
  },
  {
   "cell_type": "code",
   "execution_count": 4,
   "metadata": {},
   "outputs": [
    {
     "name": "stdout",
     "output_type": "stream",
     "text": [
      "Ellipsis\n",
      "Ellipsis\n",
      "Ellipsis\n",
      "Ellipsis\n",
      "Ellipsis\n",
      "Ellipsis\n"
     ]
    }
   ],
   "source": [
    "# coder les fonctions de base\n",
    "def Phi(M,j,x):\n",
    "    h = 1./M\n",
    "    # ...\n",
    "    return ...\n",
    "\n",
    "# quelques tests\n",
    "print(Phi(4,1,0.25))\n",
    "print(Phi(4,1,0.5))\n",
    "print(Phi(4,1,0.75))\n",
    "print(Phi(4,2,0.25))\n",
    "print(Phi(4,2,0.5))\n",
    "print(Phi(4,2,0.75))"
   ]
  },
  {
   "cell_type": "markdown",
   "metadata": {},
   "source": [
    "### Ecriture algébrique :\n",
    "On exprime $u_h \\in V_{h0}$ dans la base $(\\Phi_j)_{1 \\leq j \\leq M-1}$.\n",
    "On a donc \n",
    "$$u_h (x) = \\sum_{j=1}^{M-1} u_j \\Phi_j (x) \\quad \\forall x \\in [0,1]$$\n",
    "où $u_j = u(x_j)$. On peut alors trouver les $u_j$ en résolvant le système linéaire\n",
    "$$A U = F$$\n",
    "où \n",
    "$$U = \\begin{pmatrix} u_1 \\\\ u_2 \\\\ \\vdots \\\\ u_{M-1} \\end{pmatrix}, \\qquad\n",
    "F = \\begin{pmatrix} \\int_0^1 f(x) \\Phi_1(x) dx \\\\ \\int_0^1 f(x) \\Phi_2(x) dx \\\\ \\vdots \\\\ \\int_0^1 f(x) \\Phi_{M-1}(x) dx \\end{pmatrix}\n",
    "$$\n",
    "et\n",
    "$$\n",
    "A = \n",
    "\\begin{pmatrix} \n",
    "\\int_0^1 \\Phi_1'(x) \\Phi_1'(x) dx & \\cdots & \\int_0^1 \\Phi_1'(x) \\Phi_{M-1}'(x) dx \n",
    "\\\\ \n",
    "\\vdots &  & \\vdots\n",
    "\\\\\n",
    "\\int_0^1 \\Phi_{M-1}'(x) \\Phi_1'(x) dx & \\cdots & \\int_0^1 \\Phi_{M-1}'(x) \\Phi_{M-1}'(x) dx\n",
    "\\end{pmatrix}\n",
    "= \n",
    "\\dfrac1{h}\n",
    "\\begin{pmatrix}\n",
    "2 & -1 & & (0)\n",
    "\\\\\n",
    "-1 & \\ddots & \\ddots\n",
    "\\\\\n",
    "   & \\ddots & \\ddots & -1\n",
    "\\\\\n",
    "(0)&& -1 & 2\n",
    "\\end{pmatrix}$$"
   ]
  },
  {
   "cell_type": "code",
   "execution_count": 5,
   "metadata": {},
   "outputs": [
    {
     "ename": "IndentationError",
     "evalue": "expected an indented block (<ipython-input-5-5915ae9cbe98>, line 47)",
     "output_type": "error",
     "traceback": [
      "\u001b[0;36m  File \u001b[0;32m\"<ipython-input-5-5915ae9cbe98>\"\u001b[0;36m, line \u001b[0;32m47\u001b[0m\n\u001b[0;31m    row = numpy.array(row)\u001b[0m\n\u001b[0m    ^\u001b[0m\n\u001b[0;31mIndentationError\u001b[0m\u001b[0;31m:\u001b[0m expected an indented block\n"
     ]
    }
   ],
   "source": [
    "# coder une fonction renvoyant la matrice A en fonction de M\n",
    "def mat_A(M):\n",
    "    h = 1/M\n",
    "    \n",
    "    row = list()\n",
    "    col = list()\n",
    "    data = list()\n",
    "    \n",
    "    # A_0,0\n",
    "    row.append((0))\n",
    "    col.append((0))\n",
    "    #data.append(...)\n",
    "    \n",
    "    # A_0,1\n",
    "    row.append((0))\n",
    "    col.append((1))\n",
    "    #data.append(...)\n",
    "    \n",
    "    #loop\n",
    "    for i in range(1,M-2):\n",
    "    \n",
    "        # A_i,i = qque chose (exemple)\n",
    "        # row.append((...))\n",
    "        # col.append((...))\n",
    "        # data.append( ... )  \n",
    "    \n",
    "        # A_i,i-1 = autre chose (exemple)\n",
    "        # row.append((...))\n",
    "        # col.append((...))\n",
    "        # data.append( ... )\n",
    "    \n",
    "        # A_i,i+1 = encore autre chose\n",
    "        # row.append((...))\n",
    "        # col.append((...))\n",
    "        # data.append( ... )\n",
    "\n",
    "    # A_{M-2},{M-3}\n",
    "    # row.append((...))\n",
    "    # col.append((...))\n",
    "    # data.append(...)\n",
    "    \n",
    "    # A_{M-2},{M-2}\n",
    "    # row.append((...))\n",
    "    # col.append((...))\n",
    "    # data.append(...)\n",
    "    \n",
    "    row = np.array(row)\n",
    "    col = np.array(col)\n",
    "    data = np.array(data)      \n",
    "    A = (sparse.coo_matrix((data, (row, col)), shape=(M-1, M-1))).tocsr()\n",
    "    return ...\n",
    "\n"
   ]
  },
  {
   "cell_type": "markdown",
   "metadata": {},
   "source": [
    "On se propose de coder une première approximation de la fonction second membre obtenue par\n",
    "$$F_j = h f(x_{j+1}) \\qquad 0 \\leq j \\leq M-1$$\n",
    "\n",
    "On pourra dans un second temps (une fois que tout le TP a été fini) coder la fonction exacte donnant\n",
    "$$F_j = \\int_0^1 f(x) \\Phi_{j+1}(x) dx \\qquad 0 \\leq j \\leq M-1$$"
   ]
  },
  {
   "cell_type": "code",
   "execution_count": 6,
   "metadata": {},
   "outputs": [
    {
     "name": "stdout",
     "output_type": "stream",
     "text": [
      "0.5\n"
     ]
    }
   ],
   "source": [
    "# premiere approximation :\n",
    "def RHS_DF(M,f):\n",
    "    F = np.zeros(M-1)\n",
    "    h = 1./M\n",
    "    # ...\n",
    "    return F\n",
    "\n",
    "def unite(x):\n",
    "    return x\n",
    "# pour la deuxieme fonction (a faire une fois que tout le TP est fini)\n",
    "# on pourra utiliser la methode d'integration suivante qui calcule l'integrale de unite(x) entre 0 et 1 :\n",
    "integrale = quad(unite,0,1)[0]\n",
    "print(integrale)\n",
    "\n",
    "# valeur exacte de F\n",
    "def RHS_F(M,f):\n",
    "    F = np.zeros(M-1)\n",
    "    h = 1./M\n",
    "    # ...\n",
    "    return F\n",
    "\n",
    "\n"
   ]
  },
  {
   "cell_type": "markdown",
   "metadata": {},
   "source": [
    "Coder une fonction retournant la solution éléments finis aux points $(x_j)_{0 \\leq j \\leq M}$. On pourra tester successivement les deux fonctions second membre."
   ]
  },
  {
   "cell_type": "code",
   "execution_count": 7,
   "metadata": {},
   "outputs": [],
   "source": [
    "# fonction calculant la solution elements finis\n",
    "def EF_DH(M,f):\n",
    "    # ...\n",
    "    return U\n"
   ]
  },
  {
   "cell_type": "markdown",
   "metadata": {},
   "source": [
    "Représenter $u_h$ graphiquement et la comparer avec la solution exacte."
   ]
  },
  {
   "cell_type": "code",
   "execution_count": 8,
   "metadata": {},
   "outputs": [
    {
     "ename": "NameError",
     "evalue": "name 'U' is not defined",
     "output_type": "error",
     "traceback": [
      "\u001b[0;31m---------------------------------------------------------------------------\u001b[0m",
      "\u001b[0;31mNameError\u001b[0m                                 Traceback (most recent call last)",
      "\u001b[0;32m<ipython-input-8-63eb5160167b>\u001b[0m in \u001b[0;36m<module>\u001b[0;34m\u001b[0m\n\u001b[1;32m     13\u001b[0m     \u001b[0mplt\u001b[0m\u001b[0;34m.\u001b[0m\u001b[0mshow\u001b[0m\u001b[0;34m(\u001b[0m\u001b[0;34m)\u001b[0m\u001b[0;34m\u001b[0m\u001b[0;34m\u001b[0m\u001b[0m\n\u001b[1;32m     14\u001b[0m \u001b[0;34m\u001b[0m\u001b[0m\n\u001b[0;32m---> 15\u001b[0;31m \u001b[0mgraph_sol\u001b[0m\u001b[0;34m(\u001b[0m\u001b[0;36m10\u001b[0m\u001b[0;34m,\u001b[0m\u001b[0mf\u001b[0m\u001b[0;34m,\u001b[0m\u001b[0mu_ex\u001b[0m\u001b[0;34m)\u001b[0m\u001b[0;34m\u001b[0m\u001b[0;34m\u001b[0m\u001b[0m\n\u001b[0m\u001b[1;32m     16\u001b[0m \u001b[0;34m\u001b[0m\u001b[0m\n",
      "\u001b[0;32m<ipython-input-8-63eb5160167b>\u001b[0m in \u001b[0;36mgraph_sol\u001b[0;34m(M, f, u_ex)\u001b[0m\n\u001b[1;32m      7\u001b[0m         \u001b[0msol_ex\u001b[0m\u001b[0;34m[\u001b[0m\u001b[0mi\u001b[0m\u001b[0;34m]\u001b[0m \u001b[0;34m=\u001b[0m \u001b[0mu_ex\u001b[0m\u001b[0;34m(\u001b[0m\u001b[0mX\u001b[0m\u001b[0;34m[\u001b[0m\u001b[0mi\u001b[0m\u001b[0;34m]\u001b[0m\u001b[0;34m)\u001b[0m\u001b[0;34m\u001b[0m\u001b[0;34m\u001b[0m\u001b[0m\n\u001b[1;32m      8\u001b[0m \u001b[0;34m\u001b[0m\u001b[0m\n\u001b[0;32m----> 9\u001b[0;31m     \u001b[0msol_EF\u001b[0m \u001b[0;34m=\u001b[0m \u001b[0mEF_DH\u001b[0m\u001b[0;34m(\u001b[0m\u001b[0mM\u001b[0m\u001b[0;34m,\u001b[0m\u001b[0mf\u001b[0m\u001b[0;34m)\u001b[0m\u001b[0;34m\u001b[0m\u001b[0;34m\u001b[0m\u001b[0m\n\u001b[0m\u001b[1;32m     10\u001b[0m \u001b[0;34m\u001b[0m\u001b[0m\n\u001b[1;32m     11\u001b[0m     \u001b[0mplt\u001b[0m\u001b[0;34m.\u001b[0m\u001b[0mplot\u001b[0m\u001b[0;34m(\u001b[0m\u001b[0mX\u001b[0m\u001b[0;34m,\u001b[0m\u001b[0msol_ex\u001b[0m\u001b[0;34m)\u001b[0m\u001b[0;34m\u001b[0m\u001b[0;34m\u001b[0m\u001b[0m\n",
      "\u001b[0;32m<ipython-input-7-f3f587dfbb8d>\u001b[0m in \u001b[0;36mEF_DH\u001b[0;34m(M, f)\u001b[0m\n\u001b[1;32m      2\u001b[0m \u001b[0;32mdef\u001b[0m \u001b[0mEF_DH\u001b[0m\u001b[0;34m(\u001b[0m\u001b[0mM\u001b[0m\u001b[0;34m,\u001b[0m\u001b[0mf\u001b[0m\u001b[0;34m)\u001b[0m\u001b[0;34m:\u001b[0m\u001b[0;34m\u001b[0m\u001b[0;34m\u001b[0m\u001b[0m\n\u001b[1;32m      3\u001b[0m     \u001b[0;31m# ...\u001b[0m\u001b[0;34m\u001b[0m\u001b[0;34m\u001b[0m\u001b[0;34m\u001b[0m\u001b[0m\n\u001b[0;32m----> 4\u001b[0;31m     \u001b[0;32mreturn\u001b[0m \u001b[0mU\u001b[0m\u001b[0;34m\u001b[0m\u001b[0;34m\u001b[0m\u001b[0m\n\u001b[0m",
      "\u001b[0;31mNameError\u001b[0m: name 'U' is not defined"
     ]
    }
   ],
   "source": [
    "# fonction representant u_h graphiquement\n",
    "# et la comparant avec la solution exacte\n",
    "def graph_sol(M,f,u_ex):\n",
    "    X = np.linspace(0,1,M+1)\n",
    "    sol_ex = np.zeros(M+1)\n",
    "    for i in range(0,M+1):\n",
    "        sol_ex[i] = u_ex(X[i])\n",
    "    \n",
    "    sol_EF = EF_DH(M,f)\n",
    "    \n",
    "    plt.plot(X,sol_ex)\n",
    "    plt.plot(X,sol_EF)\n",
    "    plt.show()\n",
    "\n",
    "graph_sol(10,f,u_ex)\n",
    "\n"
   ]
  },
  {
   "cell_type": "markdown",
   "metadata": {},
   "source": [
    "### Calcul des normes\n",
    "On définit la semi-norme $H^1$ de $v_h \\in V_{h0}$ comme\n",
    "$$\\| v_h' \\|_{L^2} = \\sqrt{\\int_0^1 (v_h'(x))^2 dx} = \\sqrt{\\sum_{j=1}^M h\\left(\\dfrac{v_h(x_{j}) - v_h(x_{j-1})}{h} \\right)^2}$$\n",
    "Coder une fonction calculant cette quantité à partir des coefficients $V$ de $v_h$."
   ]
  },
  {
   "cell_type": "code",
   "execution_count": 9,
   "metadata": {},
   "outputs": [],
   "source": [
    "def norme_H1(M,V):\n",
    "    h = 1./M\n",
    "    somme = 0\n",
    "    # ...\n",
    "    return ...\n",
    "\n"
   ]
  },
  {
   "cell_type": "markdown",
   "metadata": {},
   "source": [
    "De la même façon, coder une fonction qui renvoie la norme $L^2$ donnée par\n",
    "$$\\| v_h \\|_{L^2} = \\sqrt{\\int_0^1 (v_h(x))^2 dx} = \\sqrt{\\dfrac{h}3 \\sum_{j=1}^M (v_h(x_{j-1}))^2 + v_h(x_{j-1}) v_h(x_{j}) + (v_h(x_{j}))^2 }$$"
   ]
  },
  {
   "cell_type": "code",
   "execution_count": 10,
   "metadata": {},
   "outputs": [],
   "source": [
    "def norme_L2(M,V):\n",
    "    h = 1./M\n",
    "    somme = 0\n",
    "    # ...\n",
    "    return ...\n"
   ]
  },
  {
   "cell_type": "markdown",
   "metadata": {},
   "source": [
    "### Etude de convergence\n",
    "Pour différentes valeurs de $M$, calculer l'erreur commise par le schéma en semi-norme $H^1$, c'est-à-dire $\\| u_h' - I_h' \\|_{L^2}$ où $u_h$ est la solution obtenue par la méthode des éléments finis et $I_h \\in V_{h0}$ est l'interpolateur de Lagrange défini par $I_h(x_j) = u(x_j)$ ($1 \\leq j \\leq M-1$). Tracer l'erreur en fonction de $M$ en échelle log-log. Tracer également l'erreur en norme $L^2$. Commenter l'ordre de convergence obtenu."
   ]
  },
  {
   "cell_type": "code",
   "execution_count": 11,
   "metadata": {},
   "outputs": [
    {
     "ename": "ValueError",
     "evalue": "x and y must have same first dimension, but have shapes (7,) and (0,)",
     "output_type": "error",
     "traceback": [
      "\u001b[0;31m---------------------------------------------------------------------------\u001b[0m",
      "\u001b[0;31mValueError\u001b[0m                                Traceback (most recent call last)",
      "\u001b[0;32m<ipython-input-11-7417b3862f82>\u001b[0m in \u001b[0;36m<module>\u001b[0;34m\u001b[0m\n\u001b[1;32m      5\u001b[0m \u001b[0;31m# ...\u001b[0m\u001b[0;34m\u001b[0m\u001b[0;34m\u001b[0m\u001b[0;34m\u001b[0m\u001b[0m\n\u001b[1;32m      6\u001b[0m \u001b[0;34m\u001b[0m\u001b[0m\n\u001b[0;32m----> 7\u001b[0;31m \u001b[0mplt\u001b[0m\u001b[0;34m.\u001b[0m\u001b[0mplot\u001b[0m\u001b[0;34m(\u001b[0m\u001b[0mliste_M\u001b[0m\u001b[0;34m,\u001b[0m \u001b[0mliste_err_H1\u001b[0m\u001b[0;34m)\u001b[0m\u001b[0;34m\u001b[0m\u001b[0;34m\u001b[0m\u001b[0m\n\u001b[0m\u001b[1;32m      8\u001b[0m \u001b[0mplt\u001b[0m\u001b[0;34m.\u001b[0m\u001b[0mplot\u001b[0m\u001b[0;34m(\u001b[0m\u001b[0mliste_M\u001b[0m\u001b[0;34m,\u001b[0m \u001b[0mliste_err_L2\u001b[0m\u001b[0;34m)\u001b[0m\u001b[0;34m\u001b[0m\u001b[0;34m\u001b[0m\u001b[0m\n\u001b[1;32m      9\u001b[0m \u001b[0mplt\u001b[0m\u001b[0;34m.\u001b[0m\u001b[0mloglog\u001b[0m\u001b[0;34m(\u001b[0m\u001b[0;34m)\u001b[0m\u001b[0;34m\u001b[0m\u001b[0;34m\u001b[0m\u001b[0m\n",
      "\u001b[0;32m/usr/lib/python3/dist-packages/matplotlib/pyplot.py\u001b[0m in \u001b[0;36mplot\u001b[0;34m(scalex, scaley, data, *args, **kwargs)\u001b[0m\n\u001b[1;32m   2785\u001b[0m \u001b[0;34m@\u001b[0m\u001b[0mdocstring\u001b[0m\u001b[0;34m.\u001b[0m\u001b[0mcopy\u001b[0m\u001b[0;34m(\u001b[0m\u001b[0mAxes\u001b[0m\u001b[0;34m.\u001b[0m\u001b[0mplot\u001b[0m\u001b[0;34m)\u001b[0m\u001b[0;34m\u001b[0m\u001b[0;34m\u001b[0m\u001b[0m\n\u001b[1;32m   2786\u001b[0m \u001b[0;32mdef\u001b[0m \u001b[0mplot\u001b[0m\u001b[0;34m(\u001b[0m\u001b[0;34m*\u001b[0m\u001b[0margs\u001b[0m\u001b[0;34m,\u001b[0m \u001b[0mscalex\u001b[0m\u001b[0;34m=\u001b[0m\u001b[0;32mTrue\u001b[0m\u001b[0;34m,\u001b[0m \u001b[0mscaley\u001b[0m\u001b[0;34m=\u001b[0m\u001b[0;32mTrue\u001b[0m\u001b[0;34m,\u001b[0m \u001b[0mdata\u001b[0m\u001b[0;34m=\u001b[0m\u001b[0;32mNone\u001b[0m\u001b[0;34m,\u001b[0m \u001b[0;34m**\u001b[0m\u001b[0mkwargs\u001b[0m\u001b[0;34m)\u001b[0m\u001b[0;34m:\u001b[0m\u001b[0;34m\u001b[0m\u001b[0;34m\u001b[0m\u001b[0m\n\u001b[0;32m-> 2787\u001b[0;31m     return gca().plot(\n\u001b[0m\u001b[1;32m   2788\u001b[0m         *args, scalex=scalex, scaley=scaley, **({\"data\": data} if data\n\u001b[1;32m   2789\u001b[0m         is not None else {}), **kwargs)\n",
      "\u001b[0;32m/usr/lib/python3/dist-packages/matplotlib/axes/_axes.py\u001b[0m in \u001b[0;36mplot\u001b[0;34m(self, scalex, scaley, data, *args, **kwargs)\u001b[0m\n\u001b[1;32m   1663\u001b[0m         \"\"\"\n\u001b[1;32m   1664\u001b[0m         \u001b[0mkwargs\u001b[0m \u001b[0;34m=\u001b[0m \u001b[0mcbook\u001b[0m\u001b[0;34m.\u001b[0m\u001b[0mnormalize_kwargs\u001b[0m\u001b[0;34m(\u001b[0m\u001b[0mkwargs\u001b[0m\u001b[0;34m,\u001b[0m \u001b[0mmlines\u001b[0m\u001b[0;34m.\u001b[0m\u001b[0mLine2D\u001b[0m\u001b[0;34m.\u001b[0m\u001b[0m_alias_map\u001b[0m\u001b[0;34m)\u001b[0m\u001b[0;34m\u001b[0m\u001b[0;34m\u001b[0m\u001b[0m\n\u001b[0;32m-> 1665\u001b[0;31m         \u001b[0mlines\u001b[0m \u001b[0;34m=\u001b[0m \u001b[0;34m[\u001b[0m\u001b[0;34m*\u001b[0m\u001b[0mself\u001b[0m\u001b[0;34m.\u001b[0m\u001b[0m_get_lines\u001b[0m\u001b[0;34m(\u001b[0m\u001b[0;34m*\u001b[0m\u001b[0margs\u001b[0m\u001b[0;34m,\u001b[0m \u001b[0mdata\u001b[0m\u001b[0;34m=\u001b[0m\u001b[0mdata\u001b[0m\u001b[0;34m,\u001b[0m \u001b[0;34m**\u001b[0m\u001b[0mkwargs\u001b[0m\u001b[0;34m)\u001b[0m\u001b[0;34m]\u001b[0m\u001b[0;34m\u001b[0m\u001b[0;34m\u001b[0m\u001b[0m\n\u001b[0m\u001b[1;32m   1666\u001b[0m         \u001b[0;32mfor\u001b[0m \u001b[0mline\u001b[0m \u001b[0;32min\u001b[0m \u001b[0mlines\u001b[0m\u001b[0;34m:\u001b[0m\u001b[0;34m\u001b[0m\u001b[0;34m\u001b[0m\u001b[0m\n\u001b[1;32m   1667\u001b[0m             \u001b[0mself\u001b[0m\u001b[0;34m.\u001b[0m\u001b[0madd_line\u001b[0m\u001b[0;34m(\u001b[0m\u001b[0mline\u001b[0m\u001b[0;34m)\u001b[0m\u001b[0;34m\u001b[0m\u001b[0;34m\u001b[0m\u001b[0m\n",
      "\u001b[0;32m/usr/lib/python3/dist-packages/matplotlib/axes/_base.py\u001b[0m in \u001b[0;36m__call__\u001b[0;34m(self, *args, **kwargs)\u001b[0m\n\u001b[1;32m    223\u001b[0m                 \u001b[0mthis\u001b[0m \u001b[0;34m+=\u001b[0m \u001b[0margs\u001b[0m\u001b[0;34m[\u001b[0m\u001b[0;36m0\u001b[0m\u001b[0;34m]\u001b[0m\u001b[0;34m,\u001b[0m\u001b[0;34m\u001b[0m\u001b[0;34m\u001b[0m\u001b[0m\n\u001b[1;32m    224\u001b[0m                 \u001b[0margs\u001b[0m \u001b[0;34m=\u001b[0m \u001b[0margs\u001b[0m\u001b[0;34m[\u001b[0m\u001b[0;36m1\u001b[0m\u001b[0;34m:\u001b[0m\u001b[0;34m]\u001b[0m\u001b[0;34m\u001b[0m\u001b[0;34m\u001b[0m\u001b[0m\n\u001b[0;32m--> 225\u001b[0;31m             \u001b[0;32myield\u001b[0m \u001b[0;32mfrom\u001b[0m \u001b[0mself\u001b[0m\u001b[0;34m.\u001b[0m\u001b[0m_plot_args\u001b[0m\u001b[0;34m(\u001b[0m\u001b[0mthis\u001b[0m\u001b[0;34m,\u001b[0m \u001b[0mkwargs\u001b[0m\u001b[0;34m)\u001b[0m\u001b[0;34m\u001b[0m\u001b[0;34m\u001b[0m\u001b[0m\n\u001b[0m\u001b[1;32m    226\u001b[0m \u001b[0;34m\u001b[0m\u001b[0m\n\u001b[1;32m    227\u001b[0m     \u001b[0;32mdef\u001b[0m \u001b[0mget_next_color\u001b[0m\u001b[0;34m(\u001b[0m\u001b[0mself\u001b[0m\u001b[0;34m)\u001b[0m\u001b[0;34m:\u001b[0m\u001b[0;34m\u001b[0m\u001b[0;34m\u001b[0m\u001b[0m\n",
      "\u001b[0;32m/usr/lib/python3/dist-packages/matplotlib/axes/_base.py\u001b[0m in \u001b[0;36m_plot_args\u001b[0;34m(self, tup, kwargs)\u001b[0m\n\u001b[1;32m    389\u001b[0m             \u001b[0mx\u001b[0m\u001b[0;34m,\u001b[0m \u001b[0my\u001b[0m \u001b[0;34m=\u001b[0m \u001b[0mindex_of\u001b[0m\u001b[0;34m(\u001b[0m\u001b[0mtup\u001b[0m\u001b[0;34m[\u001b[0m\u001b[0;34m-\u001b[0m\u001b[0;36m1\u001b[0m\u001b[0;34m]\u001b[0m\u001b[0;34m)\u001b[0m\u001b[0;34m\u001b[0m\u001b[0;34m\u001b[0m\u001b[0m\n\u001b[1;32m    390\u001b[0m \u001b[0;34m\u001b[0m\u001b[0m\n\u001b[0;32m--> 391\u001b[0;31m         \u001b[0mx\u001b[0m\u001b[0;34m,\u001b[0m \u001b[0my\u001b[0m \u001b[0;34m=\u001b[0m \u001b[0mself\u001b[0m\u001b[0;34m.\u001b[0m\u001b[0m_xy_from_xy\u001b[0m\u001b[0;34m(\u001b[0m\u001b[0mx\u001b[0m\u001b[0;34m,\u001b[0m \u001b[0my\u001b[0m\u001b[0;34m)\u001b[0m\u001b[0;34m\u001b[0m\u001b[0;34m\u001b[0m\u001b[0m\n\u001b[0m\u001b[1;32m    392\u001b[0m \u001b[0;34m\u001b[0m\u001b[0m\n\u001b[1;32m    393\u001b[0m         \u001b[0;32mif\u001b[0m \u001b[0mself\u001b[0m\u001b[0;34m.\u001b[0m\u001b[0mcommand\u001b[0m \u001b[0;34m==\u001b[0m \u001b[0;34m'plot'\u001b[0m\u001b[0;34m:\u001b[0m\u001b[0;34m\u001b[0m\u001b[0;34m\u001b[0m\u001b[0m\n",
      "\u001b[0;32m/usr/lib/python3/dist-packages/matplotlib/axes/_base.py\u001b[0m in \u001b[0;36m_xy_from_xy\u001b[0;34m(self, x, y)\u001b[0m\n\u001b[1;32m    267\u001b[0m         \u001b[0my\u001b[0m \u001b[0;34m=\u001b[0m \u001b[0m_check_1d\u001b[0m\u001b[0;34m(\u001b[0m\u001b[0my\u001b[0m\u001b[0;34m)\u001b[0m\u001b[0;34m\u001b[0m\u001b[0;34m\u001b[0m\u001b[0m\n\u001b[1;32m    268\u001b[0m         \u001b[0;32mif\u001b[0m \u001b[0mx\u001b[0m\u001b[0;34m.\u001b[0m\u001b[0mshape\u001b[0m\u001b[0;34m[\u001b[0m\u001b[0;36m0\u001b[0m\u001b[0;34m]\u001b[0m \u001b[0;34m!=\u001b[0m \u001b[0my\u001b[0m\u001b[0;34m.\u001b[0m\u001b[0mshape\u001b[0m\u001b[0;34m[\u001b[0m\u001b[0;36m0\u001b[0m\u001b[0;34m]\u001b[0m\u001b[0;34m:\u001b[0m\u001b[0;34m\u001b[0m\u001b[0;34m\u001b[0m\u001b[0m\n\u001b[0;32m--> 269\u001b[0;31m             raise ValueError(\"x and y must have same first dimension, but \"\n\u001b[0m\u001b[1;32m    270\u001b[0m                              \"have shapes {} and {}\".format(x.shape, y.shape))\n\u001b[1;32m    271\u001b[0m         \u001b[0;32mif\u001b[0m \u001b[0mx\u001b[0m\u001b[0;34m.\u001b[0m\u001b[0mndim\u001b[0m \u001b[0;34m>\u001b[0m \u001b[0;36m2\u001b[0m \u001b[0;32mor\u001b[0m \u001b[0my\u001b[0m\u001b[0;34m.\u001b[0m\u001b[0mndim\u001b[0m \u001b[0;34m>\u001b[0m \u001b[0;36m2\u001b[0m\u001b[0;34m:\u001b[0m\u001b[0;34m\u001b[0m\u001b[0;34m\u001b[0m\u001b[0m\n",
      "\u001b[0;31mValueError\u001b[0m: x and y must have same first dimension, but have shapes (7,) and (0,)"
     ]
    },
    {
     "data": {
      "image/png": "[encoded data removed]",
      "text/plain": [
       "<Figure size 432x288 with 1 Axes>"
      ]
     },
     "metadata": {
      "needs_background": "light"
     },
     "output_type": "display_data"
    }
   ],
   "source": [
    "liste_M = [10,20,40,80,160,320,640]\n",
    "liste_err_H1 = []\n",
    "liste_err_L2 = []\n",
    "\n",
    "# ...\n",
    "\n",
    "plt.plot(liste_M, liste_err_H1)\n",
    "plt.plot(liste_M, liste_err_L2)\n",
    "plt.loglog()"
   ]
  },
  {
   "cell_type": "code",
   "execution_count": null,
   "metadata": {},
   "outputs": [],
   "source": []
  },
  {
   "cell_type": "code",
   "execution_count": null,
   "metadata": {},
   "outputs": [],
   "source": []
  }
 ],
 "metadata": {
  "kernelspec": {
   "display_name": "Python 3",
   "language": "python",
   "name": "python3"
  },
  "language_info": {
   "codemirror_mode": {
    "name": "ipython",
    "version": 3
   },
   "file_extension": ".py",
   "mimetype": "text/x-python",
   "name": "python",
   "nbconvert_exporter": "python",
   "pygments_lexer": "ipython3",
   "version": "3.8.10"
  }
 },
 "nbformat": 4,
 "nbformat_minor": 2
}
