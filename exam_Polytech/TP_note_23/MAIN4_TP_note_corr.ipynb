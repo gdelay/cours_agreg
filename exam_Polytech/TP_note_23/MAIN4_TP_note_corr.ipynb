{
 "cells": [
  {
   "cell_type": "markdown",
   "metadata": {},
   "source": [
    "# TP3 :  Discrétisation de l'équation de la chaleur"
   ]
  },
  {
   "cell_type": "code",
   "execution_count": 1,
   "metadata": {},
   "outputs": [],
   "source": [
    "import numpy as np\n",
    "import math\n",
    "\n",
    "import scipy.sparse as sparse\n",
    "import scipy.sparse.linalg\n",
    "\n",
    "from scipy.integrate import quad\n",
    "\n",
    "import matplotlib.pyplot as plt\n",
    "from matplotlib import animation, rc\n",
    "from IPython.display import HTML"
   ]
  },
  {
   "cell_type": "markdown",
   "metadata": {},
   "source": [
    "### Equation de la chaleur :\n",
    "On se place dans le domaine temporel $]0,T[$ ($T>0$) et spatial $]0,1[$.\n",
    "On souhaite discrétiser l'équation de la chaleur avec des conditions aux limites de Dirichlet homogènes :\n",
    "$$\\dfrac{\\partial u}{\\partial t} - \\dfrac{\\partial^2 u}{\\partial x^2} = f \\text{ dans } ]0,T[ \\times ]0,1[,$$\n",
    "$$u(t,0) = u(t,1) = 0 \\text{ pour } t \\in ]0,T[,$$\n",
    "$$u(0,x) = u_0(x) \\text{ pour } x \\in ]0,1[,$$\n",
    "où $f$ est une fonction de $]0,T[ \\times ]0,1[$ donnée et $u_0$ est une fonction donnée de $]0,1[$."
   ]
  },
  {
   "cell_type": "markdown",
   "metadata": {},
   "source": [
    "### Discrétisation du domaine :\n",
    "On discrétise le domaine spatial $]X_{\\text{min}},X_{\\text{max}}[$ par $M>0$ sous-intervalles (dans la suite $X_{\\text{min}}=0$ et $X_{\\text{max}}=1$). \n",
    "Les points correspondant à cette discrétisation sont les $x_i = X_{\\text{min}} + i h_x$ avec $h_x = \\frac{X_{\\text{max}} - X_{\\text{min}}}{M}$ ($0 \\leq i \\leq M$). \n",
    "On discrétise le domaine temporel $]0,T[$ par $N>0$ sous-intervalles.\n",
    "Les points correspondants sont les $t_n = n h_t$ avec $h_t = \\frac{T}{N}$.\n",
    "On pourra calculer ces points avec les commandes suivantes :"
   ]
  },
  {
   "cell_type": "code",
   "execution_count": 2,
   "metadata": {},
   "outputs": [
    {
     "name": "stdout",
     "output_type": "stream",
     "text": [
      "[0.  0.5 1. ]\n",
      "[0. 1. 2.]\n"
     ]
    }
   ],
   "source": [
    "M=2\n",
    "print(np.linspace(0,1,M+1))\n",
    "\n",
    "T=2\n",
    "N=2\n",
    "print(np.linspace(0,T,N+1))"
   ]
  },
  {
   "cell_type": "markdown",
   "metadata": {},
   "source": [
    "### Solution exacte :\n",
    "\n",
    "Pour étudier la convergence de nos schémas numériques, on propose la solution suivante :\n",
    "$$u(t,x) = \\cos(t)\\sin(\\pi x) . $$\n",
    "\n",
    "La fonction second membre correspondante est\n",
    "$$f(t,x) = (\\pi^2 \\cos(t)-\\sin(t)) \\sin(\\pi x) ,$$\n",
    "et la donnée initiale est\n",
    "$$ u_0(x) = \\sin(\\pi x) . $$"
   ]
  },
  {
   "cell_type": "code",
   "execution_count": 3,
   "metadata": {},
   "outputs": [],
   "source": [
    "M_PI = math.pi\n",
    "\n",
    "# sol exacte\n",
    "def u_ex(t,x):\n",
    "    return math.cos(t)*math.sin(M_PI * x)\n",
    "\n",
    "# fonction second membre\n",
    "def f(t,x):\n",
    "    return (M_PI**2 * math.cos(t) - math.sin(t)) * math.sin(M_PI * x)\n",
    "\n",
    "# donnée initiale\n",
    "def u_0(x):\n",
    "    return math.sin(M_PI*x)\n"
   ]
  },
  {
   "cell_type": "markdown",
   "metadata": {},
   "source": [
    "### Formulation variationnelle\n",
    "La formulation variationnelle associée est : pour tout $t \\in [0,T]$, on veut trouver $u(t,.) \\in H^1_0(0,1)$\n",
    "telle que pour tout $v \\in H^1_0(0,1)$ on ait \n",
    "$$ \\int_0^1 \\dfrac{\\partial u}{\\partial t}(t,x) v(x) + \\dfrac{\\partial u}{\\partial x}(t,x) v'(x) \\; \\mathrm{d}x\n",
    "= \\int_0^1 f(t,x) v(x) \\; \\mathrm{d}x$$\n",
    "On va discrétiser ce problème en espace puis en temps pour obtenir le schéma à coder."
   ]
  },
  {
   "cell_type": "markdown",
   "metadata": {},
   "source": [
    "### Semi-discrétisation en espace\n",
    "On utilise une discrétisation éléments finis en espace.\n",
    "Le problème devient: pour tout $t \\in [0,T]$, trouver $u_h(t,.) \\in V_{h0}$ telle que pour tout $v_h \\in V_{h0}$\n",
    "on ait\n",
    "$$\\int_0^1 \\dfrac{\\partial u_h}{\\partial t}(t,x) v_h(x) + \\dfrac{\\partial u_h}{\\partial x}(t,x) v_h'(x) \\; \\mathrm{d}x\n",
    "= \\int_0^1 f(t,x) v_h(x) \\; \\mathrm{d}x$$\n",
    "Ici, l'espace $V_{h0}$ est l'espace éléments finis vu en cours qui approche $H^1_0(0,1)$."
   ]
  },
  {
   "cell_type": "markdown",
   "metadata": {},
   "source": [
    "### Discrétisation complète\n",
    "On va maintenant approcher la dérivée en temps par la méthode d'Euler :\n",
    "$$ \\dfrac{\\partial u_h}{\\partial t}(t_{n+1},x) \\simeq \\dfrac{u_h(t_{n+1},x) - u_h(t_n,x)}{h_t}$$\n",
    "\n",
    "On obtient donc le schéma suivant :\n",
    "\n",
    "$\\bullet$ On initialise la solution numérique par $u_h^0 \\in V_{h0}$ défini par\n",
    "$$u_h^0(x_j) = u_0(x_j) \\qquad 1 \\leq j \\leq M-1$$\n",
    "$\\bullet$ puis, pour $0 \\leq n \\leq N-1$, on met à jour la solution en trouvant la solution du problème variationnel:\n",
    "Trouver $u_h^{n+1} \\in V_{h0}$ tel que pour tout $v_h \\in V_{h0}$ on ait\n",
    "$$\\int_0^1 u_h^{n+1}(x) v(x) + h_t \\dfrac{\\partial u_h^{n+1}}{\\partial x}(x) v_h'(x) \\; \\mathrm{d}x\n",
    "= \\int_0^1 u_h^n(x) v_h(x) + h_t f(t_{n+1},x) v_h(x) \\; \\mathrm{d}x$$"
   ]
  },
  {
   "cell_type": "markdown",
   "metadata": {},
   "source": [
    "### Ecriture algébrique du problème\n",
    "On peut montrer que la marche en temps se fait en pratique en résolvant le système linéaire:\n",
    "$$ (\\mathcal{M} + h_t A) U^{n+1} = \\mathcal{M} U^n + h_t F^{n+1}$$\n",
    "où $U^n$ contient les coordonnées de la solution dans la base canonique (les valeurs de $u_h^n$ aux points $x_j$),\n",
    "le vecteur $F$ est défini par\n",
    "$$ F_i^{n+1} = \\int_0^1 f(t_{n+1},x) \\Phi_i(x) \\; \\mathrm{d}x$$\n",
    "la matrice de raideur $A$ et la matrice de masse $\\mathcal{M}$ sont définies (dans notre cas 1d) par\n",
    "$$ A = \\dfrac1{h_x}\n",
    "\\begin{pmatrix}\n",
    "2 & -1 & & (0)\n",
    "\\\\\n",
    "-1 & \\ddots & \\ddots\n",
    "\\\\\n",
    "   & \\ddots & \\ddots & -1\n",
    "\\\\\n",
    "(0)&& -1 & 2\n",
    "\\end{pmatrix}\n",
    "\\quad \\text{et} \\quad\n",
    "\\mathcal{M} = \\dfrac{h_x}6\n",
    "\\begin{pmatrix}\n",
    "4 & 1 & & (0)\n",
    "\\\\\n",
    "1 & \\ddots & \\ddots\n",
    "\\\\\n",
    "   & \\ddots & \\ddots & 1\n",
    "\\\\\n",
    "(0)&& 1 & 4\n",
    "\\end{pmatrix}$$"
   ]
  },
  {
   "cell_type": "code",
   "execution_count": 4,
   "metadata": {},
   "outputs": [],
   "source": [
    "# coder une fonction renvoyant la matrice de raideur A\n",
    "def mat_A(M):\n",
    "    h = 1/M\n",
    "    \n",
    "    row = list()\n",
    "    col = list()\n",
    "    data = list()\n",
    "    \n",
    "    # A_0,0\n",
    "    row.append((0))\n",
    "    col.append((0))\n",
    "    data.append(2)\n",
    "    \n",
    "    # A_0,1\n",
    "    row.append((0))\n",
    "    col.append((1))\n",
    "    data.append(-1)\n",
    "    \n",
    "    #loop\n",
    "    for i in range(1,M-2):\n",
    "    \n",
    "        # A_i,i = qque chose (exemple)\n",
    "        row.append((i))\n",
    "        col.append((i))\n",
    "        data.append( 2 )  \n",
    "    \n",
    "        # A_i,i-1 = autre chose (exemple)\n",
    "        row.append((i))\n",
    "        col.append((i-1))\n",
    "        data.append( -1 )\n",
    "    \n",
    "        # A_i,i+1 = encore autre chose\n",
    "        row.append((i))\n",
    "        col.append((i+1))\n",
    "        data.append( -1 )\n",
    "\n",
    "    # A_{M-2},{M-3}\n",
    "    row.append((M-2))\n",
    "    col.append((M-3))\n",
    "    data.append(-1)\n",
    "    \n",
    "    # A_{M-2},{M-2}\n",
    "    row.append((M-2))\n",
    "    col.append((M-2))\n",
    "    data.append(2)\n",
    "    \n",
    "    row = np.array(row)\n",
    "    col = np.array(col)\n",
    "    data = np.array(data)      \n",
    "    A = (sparse.coo_matrix((data, (row, col)), shape=(M-1, M-1))).tocsr()\n",
    "    return A/h"
   ]
  },
  {
   "cell_type": "code",
   "execution_count": 5,
   "metadata": {},
   "outputs": [],
   "source": [
    "# coder une fonction renvoyant la matrice de masse M\n",
    "def mat_M(M):\n",
    "    h = 1/M\n",
    "    \n",
    "    row = list()\n",
    "    col = list()\n",
    "    data = list()\n",
    "    \n",
    "    # A_0,0\n",
    "    row.append((0))\n",
    "    col.append((0))\n",
    "    data.append(4)\n",
    "    \n",
    "    # A_0,1\n",
    "    row.append((0))\n",
    "    col.append((1))\n",
    "    data.append(1)\n",
    "    \n",
    "    #loop\n",
    "    for i in range(1,M-2):\n",
    "    \n",
    "        # A_i,i = qque chose (exemple)\n",
    "        row.append((i))\n",
    "        col.append((i))\n",
    "        data.append( 4 )  \n",
    "    \n",
    "        # A_i,i-1 = autre chose (exemple)\n",
    "        row.append((i))\n",
    "        col.append((i-1))\n",
    "        data.append( 1 )\n",
    "    \n",
    "        # A_i,i+1 = encore autre chose\n",
    "        row.append((i))\n",
    "        col.append((i+1))\n",
    "        data.append( 1 )\n",
    "\n",
    "    # A_{M-2},{M-3}\n",
    "    row.append((M-2))\n",
    "    col.append((M-3))\n",
    "    data.append(1)\n",
    "    \n",
    "    # A_{M-2},{M-2}\n",
    "    row.append((M-2))\n",
    "    col.append((M-2))\n",
    "    data.append(4)\n",
    "    \n",
    "    row = np.array(row)\n",
    "    col = np.array(col)\n",
    "    data = np.array(data)      \n",
    "    A = (sparse.coo_matrix((data, (row, col)), shape=(M-1, M-1))).tocsr()\n",
    "    return (h/6)*A"
   ]
  },
  {
   "cell_type": "code",
   "execution_count": 6,
   "metadata": {},
   "outputs": [],
   "source": [
    "# coder une fonction renvoyant la valeur de la fonction de base \\Phi_i en x\n",
    "def Phi(M,j,x):\n",
    "    h = 1./M\n",
    "    xj = j*h\n",
    "    if x < xj-h:\n",
    "        return 0\n",
    "    if x < xj:\n",
    "        return (x-xj+h)/h\n",
    "    if x < xj+h:\n",
    "        return (xj+h-x)/h\n",
    "    return 0"
   ]
  },
  {
   "cell_type": "code",
   "execution_count": 7,
   "metadata": {},
   "outputs": [],
   "source": [
    "# coder une fonction calculant (au moins de maniere approchee) le vecteur F^{n+1}\n",
    "def RHS_F(N,M,n):\n",
    "    F = np.zeros(M-1)\n",
    "    h_t = T/N\n",
    "    h_x = 1./M\n",
    "    for i in range(0,M-1):\n",
    "        xi = (i+1)*h_x\n",
    "        def fPhi(x):\n",
    "            return f((n+1)*h_t,x) * Phi(M,i+1,x)\n",
    "        F[i] = quad(fPhi, xi-h_x, xi+h_x)[0]\n",
    "    return F"
   ]
  },
  {
   "cell_type": "code",
   "execution_count": 20,
   "metadata": {},
   "outputs": [],
   "source": [
    "# coder une fonction appliquant le schema donne ci-dessus\n",
    "# cette fonction renverra la solution numerique dans un tableau a double entree (temps et espace)\n",
    "# on rappelle que le produit matrice-vecteur A*B se fait avec A.dot(B)\n",
    "def schema_EF(N,M):\n",
    "    # discretisation du domaine\n",
    "    X = np.linspace(0,1,M+1)\n",
    "    h_t = T/N\n",
    "    \n",
    "    # initialisation du vecteur solution\n",
    "    U = np.zeros((N+1,M+1))\n",
    "    for j in range(1,M+1):\n",
    "        U[0,j] = u_0(X[j])\n",
    "        \n",
    "    # calcul des matrices\n",
    "    mA = mat_A(M)\n",
    "    mM = mat_M(M)\n",
    "    mSyst = mM + h_t*mA\n",
    "    \n",
    "    # boucle en temps\n",
    "    for n in range(N):\n",
    "        # calcul du second membre\n",
    "        F = RHS_F(N,M,n)\n",
    "        RHS = mM.dot(U[n,1:M]) + h_t * F\n",
    "        # resolution du systeme lineaire\n",
    "        U[n+1,1:M] = sparse.linalg.spsolve(mSyst, RHS)\n",
    "        \n",
    "    return U"
   ]
  },
  {
   "cell_type": "markdown",
   "metadata": {},
   "source": [
    "### Représentation de la solution\n",
    "Tracer la solution au temps final obtenue numériquement et la comparer avec la solution exacte."
   ]
  },
  {
   "cell_type": "code",
   "execution_count": 21,
   "metadata": {},
   "outputs": [
    {
     "data": {
      "image/png": "[encoded data removed]",
      "text/plain": [
       "<Figure size 432x288 with 1 Axes>"
      ]
     },
     "metadata": {
      "needs_background": "light"
     },
     "output_type": "display_data"
    }
   ],
   "source": [
    "# comparer solution exacte et approchee au temps final\n",
    "def graph_sol(M,N,u_ex):\n",
    "    X = np.linspace(0,1,M+1)\n",
    "    sol_ex = np.zeros(M+1)\n",
    "    for i in range(1,M):\n",
    "        sol_ex[i] = u_ex(T,X[i])\n",
    "    \n",
    "    sol_EF = schema_EF(N,M)[N,:]\n",
    "    \n",
    "    plt.plot(X,sol_ex)\n",
    "    plt.plot(X,sol_EF)\n",
    "    plt.show()\n",
    "\n",
    "graph_sol(10,10,u_ex)"
   ]
  },
  {
   "cell_type": "markdown",
   "metadata": {},
   "source": [
    "### Tests de convergence\n",
    "Retrouver numériquement l'ordre de convergence de la méthode en norme\n",
    "$$ \\max_{\\substack{0 \\leq n \\leq N \\\\ 0 \\leq j \\leq M}} |u(t_n,x_j) - u_h^n(x_j)| .$$\n",
    "\n",
    "On se placera dans le cas $N=M$ pour simplifier."
   ]
  },
  {
   "cell_type": "code",
   "execution_count": 22,
   "metadata": {},
   "outputs": [
    {
     "data": {
      "image/png": "[encoded data removed]",
      "text/plain": [
       "<Figure size 432x288 with 1 Axes>"
      ]
     },
     "metadata": {
      "needs_background": "light"
     },
     "output_type": "display_data"
    }
   ],
   "source": [
    "# tracer l'erreur generee par la methode en fonction du pas de discretisation (echelle log-log)\n",
    "# on prendra M=N\n",
    "\n",
    "liste_M = [10,20,40,80,160]\n",
    "liste_err = []\n",
    "\n",
    "for M in liste_M:\n",
    "    X = np.linspace(0,1,M+1)\n",
    "    N = M\n",
    "    h_t = T/N\n",
    "        \n",
    "    # solution elements finis\n",
    "    U = schema_EF(M,N)\n",
    "    \n",
    "    # solution exacte\n",
    "    U_ex = np.zeros((N+1,M+1))\n",
    "    for n in range(N+1):\n",
    "        for j in range(1,M):\n",
    "            U_ex[n,j] = u_ex(n*h_t,X[j])\n",
    "            \n",
    "    # calcul de l'erreur\n",
    "    err = 0\n",
    "    for n in range(N+1):\n",
    "        for j in range(1,M):\n",
    "            err_nj = abs(U[n,j]-U_ex[n,j])\n",
    "            if(err_nj > err): \n",
    "                err = err_nj\n",
    "    \n",
    "    liste_err.append(err)\n",
    "\n",
    "\n",
    "plt.plot(liste_M, liste_err)\n",
    "plt.loglog()\n",
    "plt.show()"
   ]
  },
  {
   "cell_type": "markdown",
   "metadata": {},
   "source": [
    "Quel ordre de convergence obtenez-vous ?\n",
    "\n",
    "Votre réponse :"
   ]
  },
  {
   "cell_type": "code",
   "execution_count": null,
   "metadata": {},
   "outputs": [],
   "source": [
    "# ordre 1"
   ]
  }
 ],
 "metadata": {
  "kernelspec": {
   "display_name": "Python 3",
   "language": "python",
   "name": "python3"
  },
  "language_info": {
   "codemirror_mode": {
    "name": "ipython",
    "version": 3
   },
   "file_extension": ".py",
   "mimetype": "text/x-python",
   "name": "python",
   "nbconvert_exporter": "python",
   "pygments_lexer": "ipython3",
   "version": "3.8.10"
  }
 },
 "nbformat": 4,
 "nbformat_minor": 2
}
