{
 "cells": [
  {
   "cell_type": "markdown",
   "metadata": {},
   "source": [
    "# TP noté :  Discrétisation de l'équation de la chaleur par le schéma de Crank-Nicolson"
   ]
  },
  {
   "cell_type": "code",
   "execution_count": 1,
   "metadata": {},
   "outputs": [],
   "source": [
    "import numpy as np\n",
    "import math\n",
    "\n",
    "import scipy.sparse as sparse\n",
    "import scipy.sparse.linalg\n",
    "\n",
    "from scipy.integrate import quad\n",
    "\n",
    "import matplotlib.pyplot as plt\n",
    "from matplotlib import animation, rc\n",
    "from IPython.display import HTML"
   ]
  },
  {
   "cell_type": "markdown",
   "metadata": {},
   "source": [
    "### Equation de la chaleur :\n",
    "On se place dans le domaine temporel $]0,T[$ ($T>0$) et spatial $]0,1[$.\n",
    "On souhaite discrétiser l'équation de la chaleur avec des conditions aux limites de Dirichlet homogènes :\n",
    "$$\\dfrac{\\partial u}{\\partial t} - \\dfrac{\\partial^2 u}{\\partial x^2} = f \\text{ dans } ]0,T[ \\times ]0,1[,$$\n",
    "$$u(t,0) = u(t,1) = 0 \\text{ pour } t \\in ]0,T[,$$\n",
    "$$u(0,x) = u_0(x) \\text{ pour } x \\in ]0,1[,$$\n",
    "où $f$ est une fonction de $]0,T[ \\times ]0,1[$ donnée et $u_0$ est une fonction donnée de $]0,1[$."
   ]
  },
  {
   "cell_type": "markdown",
   "metadata": {},
   "source": [
    "### Discrétisation du domaine :\n",
    "On discrétise le domaine spatial $]X_{\\text{min}},X_{\\text{max}}[$ par $M>0$ sous-intervalles (dans la suite $X_{\\text{min}}=0$ et $X_{\\text{max}}=1$). \n",
    "Les points correspondant à cette discrétisation sont les $x_i = X_{\\text{min}} + i h_x$ avec $h_x = \\frac{X_{\\text{max}} - X_{\\text{min}}}{M}$ ($0 \\leq i \\leq M$). \n",
    "On discrétise le domaine temporel $]0,T[$ par $N>0$ sous-intervalles.\n",
    "Les points correspondants sont les $t_n = n h_t$ avec $h_t = \\frac{T}{N}$.\n",
    "On pourra calculer ces points avec les commandes suivantes :"
   ]
  },
  {
   "cell_type": "code",
   "execution_count": 2,
   "metadata": {},
   "outputs": [
    {
     "name": "stdout",
     "output_type": "stream",
     "text": [
      "[0.  0.5 1. ]\n",
      "[0. 1. 2.]\n"
     ]
    }
   ],
   "source": [
    "M=2\n",
    "print(np.linspace(0,1,M+1))\n",
    "\n",
    "T=2\n",
    "N=2\n",
    "print(np.linspace(0,T,N+1))"
   ]
  },
  {
   "cell_type": "markdown",
   "metadata": {},
   "source": [
    "### Solution exacte :\n",
    "\n",
    "Pour étudier la convergence de nos schémas numériques, on propose la solution suivante :\n",
    "$$u(t,x) = \\cos(t)\\sin(\\pi x) . $$\n",
    "\n",
    "La fonction second membre correspondante est\n",
    "$$f(t,x) = (\\pi^2 \\cos(t)-\\sin(t)) \\sin(\\pi x) ,$$\n",
    "et la donnée initiale est\n",
    "$$ u_0(x) = \\sin(\\pi x) . $$"
   ]
  },
  {
   "cell_type": "code",
   "execution_count": 98,
   "metadata": {},
   "outputs": [],
   "source": [
    "M_PI = math.pi\n",
    "\n",
    "# sol exacte\n",
    "def u_ex(t,x):\n",
    "    return math.cos(t)*math.sin(M_PI * x)\n",
    "    \n",
    "# fonction second membre\n",
    "def f(t,x):\n",
    "    return (M_PI**2 * math.cos(t) - math.sin(t)) * math.sin(M_PI * x)\n",
    "\n",
    "# donnée initiale\n",
    "def u_0(x):\n",
    "    return math.sin(M_PI*x)\n"
   ]
  },
  {
   "cell_type": "markdown",
   "metadata": {},
   "source": [
    "### Schéma de Crank-Nicolson centré :\n",
    "Le schéma de Crank-Nicolson pour la discrétisation de l'équation différentielle ordinaire $u'(t) = g(t,u(t))$ correspond à\n",
    "$$\n",
    "u_{n+1} = u_n + \\frac{h_t}2 \\Big( g(t_n , u_n) + g(t_{n+1}, u_{n+1}) \\Big) .\n",
    "$$\n",
    "Nous allons appliquer ce schéma à l'équation de la chaleur pour discrétiser la dérivée en temps.\n",
    "La dérivée seconde en espace a déjà été discrétisée pour la différence centrée\n",
    "$$\n",
    "\\partial_{xx}^2 u(t,x_j) \\simeq \\frac{u(t,x_{j+1}) - 2 u(t,x_j) + u(t,x_{j-1})}{h_x^2} .\n",
    "$$\n",
    "Ceci nous donne le schéma aux différences finies suivant :\n",
    "$$ \\left\\{ \\begin{array}{l}\n",
    " u_{j}^{n+1} = u_j^n + \\dfrac{h_t}{2 h_x^2} \\Big((u_{j-1}^{n+1} - 2 u_j^{n+1} + u_{j+1}^{n+1} + u_{j-1}^n - 2 u_j^n + u_{j+1}^n \\Big) + \\frac{h_t}2 \\Big(f(t_{n+1},x_j) + f(t_n,x_j) \\Big) \n",
    " \\text{  pour  } 1 \\leq j \\leq M-1 \\text{  et  } 0 \\leq n \\leq N-1 ,\n",
    " \\\\\n",
    " u_0^n = u_M^n = 0 \\text{  pour  } 0 \\leq n \\leq N ,\n",
    " \\\\\n",
    " u_j^0 = u_0(x_j) \\text{  pour  } 0 \\leq j \\leq M .\n",
    " \\end{array} \\right.$$"
   ]
  },
  {
   "cell_type": "markdown",
   "metadata": {},
   "source": [
    "### Système matriciel\n",
    "\n",
    "Ce schéma est implicite : des indices n+1 sont présents à la fois à gauche et à droite de l'équation. A chaque pas de temps, il va donc falloir résoudre un système linéaire pour calculer la solution approchée au pas de temps suivant. Etablissons le système linéaire à résoudre.\n",
    "\n",
    "On pose \n",
    "$$\n",
    "U^n = \\left(\n",
    "\\begin{array}{c}\n",
    "u_1^n \\\\ u_2^n \\\\ \\vdots \\\\ u_{M-1}^n\n",
    "\\end{array}\n",
    "\\right)\n",
    "$$\n",
    "la solution au temps $t_n$ prise en tous les points intérieurs.\n",
    "On peut montrer que le schéma de Crank-Nicolson centré revient à chaque pas de temps à trouver $U^{n+1}$ vérifiant\n",
    "$$\n",
    "\\Big(I+\\frac{h_t}{2} A_{\\Delta} \\Big) U^{n+1} = \\Big(I - \\frac{h_t}{2} A_{\\Delta} \\Big) U^n + h_t F^{n+1} ,\n",
    "$$\n",
    "étant donné $U^n$ déjà calculé au pas de temps précédent. Dans l'équation précédente, le second membre $F^{n+1}$ et la matrice $A_{\\Delta}$ sont donnés par\n",
    "$$\n",
    "F^{n+1} = \\begin{pmatrix} \\frac12 (f(t_{n},x_{1}) + f(t_{n+1},x_{1}))\\\\ \\frac12 (f(t_{n},x_2) + f(t_{n+1},x_2)) \\\\ \\vdots \\\\ \\frac12 (f(t_{n},x_{M-1}) + f(t_{n+1},x_{M-1}) )\\end{pmatrix}\n",
    "\\qquad \\text{ et } \\qquad\n",
    "A_{\\Delta} = \\frac{1}{h_x^2} \\begin{pmatrix} \n",
    "2  & -1 &  & (0)\n",
    "\\\\\n",
    "-1 & \\ddots & \\ddots& \n",
    "\\\\\n",
    " & \\ddots & \\ddots & -1\n",
    "\\\\\n",
    " (0)&  & -1 & 2 \n",
    "\\end{pmatrix} .\n",
    "$$"
   ]
  },
  {
   "cell_type": "markdown",
   "metadata": {},
   "source": [
    "Dans la suite, on note\n",
    "$$\n",
    "A_+ = I + \\frac{h_t}{2} A_{\\Delta} , \\qquad A_- = I - \\frac{h_t}{2} A_{\\Delta} ,\n",
    "$$\n",
    "où $I$ est la matrice identité."
   ]
  },
  {
   "cell_type": "markdown",
   "metadata": {},
   "source": [
    "## Question 1 :  Coder une fonction renvoyant la matrice $A_+$ sous forme de matrice creuse"
   ]
  },
  {
   "cell_type": "code",
   "execution_count": 106,
   "metadata": {},
   "outputs": [
    {
     "data": {
      "text/plain": [
       "<matplotlib.lines.Line2D at 0x7f592c50ad60>"
      ]
     },
     "execution_count": 106,
     "metadata": {},
     "output_type": "execute_result"
    },
    {
     "data": {
      "image/png": "[encoded data removed]",
      "text/plain": [
       "<Figure size 432x288 with 1 Axes>"
      ]
     },
     "metadata": {
      "needs_background": "light"
     },
     "output_type": "display_data"
    }
   ],
   "source": [
    "# matrice A_+\n",
    "# N : nombre de sous-intervalles en temps\n",
    "# M : nombre de sous-intervalles en espace\n",
    "def A_plus(N,M):\n",
    "    # pas d'espace et de temps\n",
    "    hx = 1/M\n",
    "    ht = T/N\n",
    "    alpha = 0.5*ht/(hx**2)\n",
    "    \n",
    "    row = list()\n",
    "    col = list()\n",
    "    data = list()\n",
    "    # premiere ligne\n",
    "    # A_0,0\n",
    "    row.append((0))\n",
    "    col.append((0))\n",
    "    data.append(1+2*alpha)\n",
    "    # A_0,1\n",
    "    row.append((0))\n",
    "    col.append((1))\n",
    "    data.append(-alpha)\n",
    "\n",
    "    for i in range(1,M-2):\n",
    "        # A_i,i = qque chose (exemple)\n",
    "        row.append((i))\n",
    "        col.append((i))\n",
    "        data.append( 1+2*alpha )\n",
    "    \n",
    "        # A_i,i-1 = autre chose (exemple)\n",
    "        row.append((i))\n",
    "        col.append((i-1))\n",
    "        data.append( -alpha )\n",
    "    \n",
    "        # A_i,i+1 = encore autre chose\n",
    "        row.append((i))\n",
    "        col.append((i+1))\n",
    "        data.append( -alpha )\n",
    "\n",
    "    # derniere ligne\n",
    "    row.append((M-2))\n",
    "    col.append((M-2))\n",
    "    data.append(1+2*alpha)\n",
    "    \n",
    "    row.append((M-2))\n",
    "    col.append((M-3))\n",
    "    data.append((-alpha))\n",
    "        \n",
    "    # assemblage final\n",
    "    row = np.array(row)\n",
    "    col = np.array(col)\n",
    "    data = np.array(data)\n",
    "    A = (sparse.coo_matrix((data, (row, col)), shape=(M-1, M-1))).tocsr()\n",
    "    \n",
    "    \n",
    "    return A\n",
    "\n",
    "plt.spy(A_plus(5,5))"
   ]
  },
  {
   "cell_type": "markdown",
   "metadata": {},
   "source": [
    "## Question 2 : Coder une fonction renvoyant le vecteur $F^{n+1}$ "
   ]
  },
  {
   "cell_type": "code",
   "execution_count": 117,
   "metadata": {},
   "outputs": [],
   "source": [
    "# vecteur F\n",
    "# N,M : nombre d'intervalles de discretisation\n",
    "# fonction second membre\n",
    "# n : instant considéré (contributions en tn et t_{n-1})\n",
    "def Fn(N,M,f,n):\n",
    "    ht = T/N\n",
    "    hx = 1/M\n",
    "    tn = n*ht\n",
    "    F = np.zeros(M-1)\n",
    "    for j in range(M-1):\n",
    "        xj = (j+1)*hx\n",
    "        F[j] = 0.5*( f(tn-ht,xj) + f(tn,xj) )\n",
    "    return F"
   ]
  },
  {
   "cell_type": "markdown",
   "metadata": {},
   "source": [
    "## Question 3 : coder une fonction renvoyant la solution du schéma\n",
    "On renverra la solution dans un tableau à double entrée (temps et espace).\n",
    "Il faudra initialiser la solution avec la donnée initiale.\n",
    "Puis, il faudra coder une boucle en temps. A chaque itération de cette boucle, il faudra renvoyer la solution du système linéaire \n",
    "$$\n",
    "A_+ U^{n+1} = R ,\n",
    "$$\n",
    "avec $A_+$ définie précédemment et\n",
    "$$\n",
    "R = A_- U^n + h_t F^{n+1} .\n",
    "$$"
   ]
  },
  {
   "cell_type": "code",
   "execution_count": 134,
   "metadata": {},
   "outputs": [],
   "source": [
    "## calcul de la solution du schema\n",
    "# N,M : nombre d'intervalles\n",
    "# f : fonction second membre\n",
    "# u_0 : donnee initiale\n",
    "def CN_centre(N,M,f,u_0):\n",
    "    ht = T/N\n",
    "    hx = 1/M\n",
    "    alpha = 0.5*ht/(hx**2)\n",
    "    \n",
    "    # initialisation de la solution\n",
    "    u = np.zeros((N+1,M+1))\n",
    "    for j in range(M-1):\n",
    "        u[0,j] = u_0((j+1)*hx)\n",
    "        \n",
    "    # boucle en temps\n",
    "    for n in range(N):\n",
    "        ## calcul de la solution au temps t_{n+1}\n",
    "        \n",
    "        # calcul du second membre du systeme a resoudre\n",
    "        RHS = ht * Fn(N,M,f,n+1)\n",
    "        for j in range(M-1):\n",
    "            RHS[j] += alpha*u[n,j] + (1-2*alpha)*u[n,j+1] + alpha*u[n,j+2]\n",
    "        \n",
    "        # resolution du systeme lineaire\n",
    "        sol_lin = sparse.linalg.spsolve(A_plus(N,M), RHS)\n",
    "        u[n+1,1:M] = sol_lin\n",
    "        \n",
    "    # fin\n",
    "    return u"
   ]
  },
  {
   "cell_type": "markdown",
   "metadata": {},
   "source": [
    "## Question 4 : afficher sur un même graphe la solution exacte et la solution numérique au temps final\n",
    "On vérifiera la convergence de la méthode en raffinant les pas de temps et d'espace."
   ]
  },
  {
   "cell_type": "code",
   "execution_count": 137,
   "metadata": {},
   "outputs": [
    {
     "name": "stdout",
     "output_type": "stream",
     "text": [
      "M= 20\n"
     ]
    },
    {
     "data": {
      "image/png": "[encoded data removed]",
      "text/plain": [
       "<Figure size 432x288 with 1 Axes>"
      ]
     },
     "metadata": {
      "needs_background": "light"
     },
     "output_type": "display_data"
    }
   ],
   "source": [
    "N = 20\n",
    "M = 20\n",
    "sol_num = CN_centre(N,M,f,u_0)[N,:]\n",
    "\n",
    "X = np.linspace(0,1,M+1)\n",
    "\n",
    "sol_ex = np.zeros(M+1)\n",
    "for j in range(M+1):\n",
    "    sol_ex[j] = u_ex(T,X[j])\n",
    "    \n",
    "plt.plot(X, sol_ex, label='solution exacte')\n",
    "plt.plot(X, sol_num, label='solution numerique')\n",
    "\n",
    "plt.legend()\n",
    "plt.show()\n"
   ]
  },
  {
   "cell_type": "code",
   "execution_count": null,
   "metadata": {},
   "outputs": [],
   "source": []
  }
 ],
 "metadata": {
  "kernelspec": {
   "display_name": "Python 3",
   "language": "python",
   "name": "python3"
  },
  "language_info": {
   "codemirror_mode": {
    "name": "ipython",
    "version": 3
   },
   "file_extension": ".py",
   "mimetype": "text/x-python",
   "name": "python",
   "nbconvert_exporter": "python",
   "pygments_lexer": "ipython3",
   "version": "3.8.10"
  }
 },
 "nbformat": 4,
 "nbformat_minor": 2
}
